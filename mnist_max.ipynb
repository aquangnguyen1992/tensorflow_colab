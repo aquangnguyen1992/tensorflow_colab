{
  "nbformat": 4,
  "nbformat_minor": 0,
  "metadata": {
    "colab": {
      "name": "mnist_max.ipynb",
      "provenance": [],
      "collapsed_sections": [],
      "authorship_tag": "ABX9TyPP6ycVfG+JV6cnGH+SBEVK",
      "include_colab_link": true
    },
    "kernelspec": {
      "name": "python3",
      "display_name": "Python 3"
    },
    "accelerator": "GPU"
  },
  "cells": [
    {
      "cell_type": "markdown",
      "metadata": {
        "id": "view-in-github",
        "colab_type": "text"
      },
      "source": [
        "<a href=\"https://colab.research.google.com/github/aquangnguyen1992/tensorflow_colab/blob/mnist_max/mnist_max.ipynb\" target=\"_parent\"><img src=\"https://colab.research.google.com/assets/colab-badge.svg\" alt=\"Open In Colab\"/></a>"
      ]
    },
    {
      "cell_type": "markdown",
      "metadata": {
        "id": "HD9O_Rdm2GGA",
        "colab_type": "text"
      },
      "source": [
        "# ***Import data from Google Drive and setup the workspace***"
      ]
    },
    {
      "cell_type": "code",
      "metadata": {
        "id": "EGtAKkc32Ekg",
        "colab_type": "code",
        "colab": {
          "base_uri": "https://localhost:8080/",
          "height": 139
        },
        "outputId": "b899c910-2c12-4adf-fde2-68f41499e58f"
      },
      "source": [
        "from google.colab import drive\n",
        "import shutil\n",
        "\n",
        "drive.mount('/content/drive')\n",
        "shutil.copytree('/content/drive/My Drive/MNIST','/content/MNIST')"
      ],
      "execution_count": 1,
      "outputs": [
        {
          "output_type": "stream",
          "text": [
            "Go to this URL in a browser: https://accounts.google.com/o/oauth2/auth?client_id=947318989803-6bn6qk8qdgf4n4g3pfee6491hc0brc4i.apps.googleusercontent.com&redirect_uri=urn%3aietf%3awg%3aoauth%3a2.0%3aoob&response_type=code&scope=email%20https%3a%2f%2fwww.googleapis.com%2fauth%2fdocs.test%20https%3a%2f%2fwww.googleapis.com%2fauth%2fdrive%20https%3a%2f%2fwww.googleapis.com%2fauth%2fdrive.photos.readonly%20https%3a%2f%2fwww.googleapis.com%2fauth%2fpeopleapi.readonly\n",
            "\n",
            "Enter your authorization code:\n",
            "··········\n",
            "Mounted at /content/drive\n"
          ],
          "name": "stdout"
        },
        {
          "output_type": "execute_result",
          "data": {
            "text/plain": [
              "'/content/MNIST'"
            ]
          },
          "metadata": {
            "tags": []
          },
          "execution_count": 1
        }
      ]
    },
    {
      "cell_type": "code",
      "metadata": {
        "id": "T-PLM_Zo3tU2",
        "colab_type": "code",
        "colab": {}
      },
      "source": [
        "train_data_path = '/content/MNIST/train_max_x'\n",
        "test_data_path = '/content/MNIST/test_max_x'\n",
        "label_file = '/content/MNIST/train_max_y.csv'"
      ],
      "execution_count": 2,
      "outputs": []
    },
    {
      "cell_type": "markdown",
      "metadata": {
        "id": "p_Aca_Mv3j-f",
        "colab_type": "text"
      },
      "source": [
        "# ***Read the dataset and show an example***"
      ]
    },
    {
      "cell_type": "code",
      "metadata": {
        "id": "EAzBjkhp3FZb",
        "colab_type": "code",
        "colab": {}
      },
      "source": [
        "import numpy as np\n",
        "import pandas as pd\n",
        "from sklearn.model_selection import train_test_split\n",
        "import matplotlib.pyplot as plt\n",
        "\n",
        "dataset = pd.read_pickle(train_data_path)\n",
        "#test_data = pd.read_pickle(test_data_path)\n",
        "train_label = pd.read_csv(label_file)\n",
        "y = train_label['Label']"
      ],
      "execution_count": null,
      "outputs": []
    },
    {
      "cell_type": "code",
      "metadata": {
        "id": "dmL4vodL530U",
        "colab_type": "code",
        "colab": {}
      },
      "source": [
        "i = np.random.randint(0, dataset.shape[0])\n",
        "sample = dataset[i]\n",
        "print(y[i], sample[0])\n",
        "plt.imshow(sample)"
      ],
      "execution_count": null,
      "outputs": []
    },
    {
      "cell_type": "code",
      "metadata": {
        "id": "EbppHid-7Adi",
        "colab_type": "code",
        "colab": {}
      },
      "source": [
        "dataset = dataset/255.0\n",
        "#test_data = test_data/255.0\n",
        "number_of_label = np.unique(np.array(y), return_counts=True)\n",
        "X_train, X_test, Y_train, Y_test = train_test_split(dataset, y, test_size=0.2, random_state=100)"
      ],
      "execution_count": 5,
      "outputs": []
    },
    {
      "cell_type": "code",
      "metadata": {
        "id": "t1_2Dx2I8__f",
        "colab_type": "code",
        "colab": {
          "base_uri": "https://localhost:8080/",
          "height": 301
        },
        "outputId": "f612409e-8d38-454b-c178-de29830207e2"
      },
      "source": [
        "print(X_train.shape, X_val.shape)\n",
        "plt.hist(np.array(Y_train), bins=range(len(number_of_label[0])))\n",
        "number_of_label[0]"
      ],
      "execution_count": 12,
      "outputs": [
        {
          "output_type": "stream",
          "text": [
            "(40000, 128, 128) (10000, 128, 128)\n"
          ],
          "name": "stdout"
        },
        {
          "output_type": "execute_result",
          "data": {
            "text/plain": [
              "array([0, 1, 2, 3, 4, 5, 6, 7, 8, 9])"
            ]
          },
          "metadata": {
            "tags": []
          },
          "execution_count": 12
        },
        {
          "output_type": "display_data",
          "data": {
            "image/png": "[encoded data removed]",
            "text/plain": [
              "<Figure size 432x288 with 1 Axes>"
            ]
          },
          "metadata": {
            "tags": [],
            "needs_background": "light"
          }
        }
      ]
    },
    {
      "cell_type": "markdown",
      "metadata": {
        "id": "1A5Px00cCBDZ",
        "colab_type": "text"
      },
      "source": [
        "# ***Keras Solution***"
      ]
    },
    {
      "cell_type": "code",
      "metadata": {
        "id": "mhInCMTQB8JY",
        "colab_type": "code",
        "colab": {}
      },
      "source": [
        "import tensorflow as tf\n",
        "from tensorflow.keras import Sequential\n",
        "from tensorflow.keras.layers import Conv2D, Dense, Dropout, BatchNormalization, Flatten\n",
        "from tensorflow.keras.optimizers import Adam"
      ],
      "execution_count": 23,
      "outputs": []
    },
    {
      "cell_type": "code",
      "metadata": {
        "id": "qU0tVNI6CoeG",
        "colab_type": "code",
        "colab": {}
      },
      "source": [
        "def create_model(conv2d_1=32, str_1=1, conv2d_2=32, str_2=1, dense_node=32, dr=0.0, batch_size=32):\n",
        "  my_model = Sequential()\n",
        "  my_model.add(Conv2D(conv2d_1, kernel_size=(3,3), strides=(str_1, str_1), activation='relu', input_shape=(batch_size, X_train.shape[1], X_train.shape[2])))\n",
        "  my_model.add(Conv2D(conv2d_1, kernel_size=(3,3), activation='relu'))\n",
        "  my_model.add(Flatten())\n",
        "  my_model.add(Dropout(dr))\n",
        "  my_model.add(BatchNormalization())\n",
        "  my_model.add(Dense(dense_node, activation='relu'))\n",
        "  my_model.add(Dense(len(number_of_label), activation='relu'))\n",
        "\n",
        "  optimizer = Adam(lr=0.0001, amsgrad=True)\n",
        "  \n",
        "  my_model.compile(loss='categorical_crossentropy',\n",
        "                optimizer=optimizer,\n",
        "                metrics=['accuracy', 'loss'])\n",
        "  \n",
        "  return my_model"
      ],
      "execution_count": 27,
      "outputs": []
    },
    {
      "cell_type": "code",
      "metadata": {
        "id": "pO9UtLxkFjpT",
        "colab_type": "code",
        "colab": {
          "base_uri": "https://localhost:8080/",
          "height": 391
        },
        "outputId": "34db4d7b-eff5-4c59-ff14-a212915f63ae"
      },
      "source": [
        "batch_size = 32\n",
        "my_model = create_model(conv2d_1=32, str_1=3, conv2d_2=32, str_2=1, dense_node=32, dr=0.0, batch_size=batch_size)\n",
        "my_model.summary()"
      ],
      "execution_count": 29,
      "outputs": [
        {
          "output_type": "stream",
          "text": [
            "Model: \"sequential_8\"\n",
            "_________________________________________________________________\n",
            "Layer (type)                 Output Shape              Param #   \n",
            "=================================================================\n",
            "conv2d_16 (Conv2D)           (None, 10, 42, 32)        36896     \n",
            "_________________________________________________________________\n",
            "conv2d_17 (Conv2D)           (None, 8, 40, 32)         9248      \n",
            "_________________________________________________________________\n",
            "flatten_8 (Flatten)          (None, 10240)             0         \n",
            "_________________________________________________________________\n",
            "dropout_8 (Dropout)          (None, 10240)             0         \n",
            "_________________________________________________________________\n",
            "batch_normalization_8 (Batch (None, 10240)             40960     \n",
            "_________________________________________________________________\n",
            "dense_16 (Dense)             (None, 32)                327712    \n",
            "_________________________________________________________________\n",
            "dense_17 (Dense)             (None, 2)                 66        \n",
            "=================================================================\n",
            "Total params: 414,882\n",
            "Trainable params: 394,402\n",
            "Non-trainable params: 20,480\n",
            "_________________________________________________________________\n"
          ],
          "name": "stdout"
        }
      ]
    },
    {
      "cell_type": "code",
      "metadata": {
        "id": "D7riYRUIFrqt",
        "colab_type": "code",
        "colab": {}
      },
      "source": [
        "early_stop = tf.keras.callbacks.EarlyStopping(monitor='val_acc', patience=10)\n",
        "filepath=\"weight_model_cnn_best.h5\"\n",
        "checkpoint = tf.keras.callbacks.ModelCheckpoint(filepath, monitor='val_acc', save_weights_only=False, verbose=1, save_best_only=True, mode='max')\n",
        "\n",
        "\n",
        "history = my_model.fit(\n",
        "  X_train, Y_train,\n",
        "  epochs=300, validation_split = 0.2, verbose=1,\n",
        "  batch_size = batch_size,\n",
        "  callbacks=[early_stop, checkpoint])"
      ],
      "execution_count": null,
      "outputs": []
    },
    {
      "cell_type": "code",
      "metadata": {
        "id": "WqDdfafcKwJU",
        "colab_type": "code",
        "colab": {}
      },
      "source": [
        ""
      ],
      "execution_count": null,
      "outputs": []
    }
  ]
}