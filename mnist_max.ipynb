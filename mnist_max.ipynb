{
  "nbformat": 4,
  "nbformat_minor": 0,
  "metadata": {
    "colab": {
      "name": "mnist_max.ipynb",
      "provenance": [],
      "collapsed_sections": [],
      "toc_visible": true,
      "authorship_tag": "ABX9TyM2XgkViAcuvzXmg+QUk2Fs",
      "include_colab_link": true
    },
    "kernelspec": {
      "name": "python3",
      "display_name": "Python 3"
    },
    "accelerator": "GPU"
  },
  "cells": [
    {
      "cell_type": "markdown",
      "metadata": {
        "id": "view-in-github",
        "colab_type": "text"
      },
      "source": [
        "<a href=\"https://colab.research.google.com/github/aquangnguyen1992/tensorflow_colab/blob/mnist_max/mnist_max.ipynb\" target=\"_parent\"><img src=\"https://colab.research.google.com/assets/colab-badge.svg\" alt=\"Open In Colab\"/></a>"
      ]
    },
    {
      "cell_type": "markdown",
      "metadata": {
        "id": "HD9O_Rdm2GGA",
        "colab_type": "text"
      },
      "source": [
        "# ***Import data from Google Drive and setup the workspace***"
      ]
    },
    {
      "cell_type": "code",
      "metadata": {
        "id": "EGtAKkc32Ekg",
        "colab_type": "code",
        "colab": {
          "base_uri": "https://localhost:8080/",
          "height": 139
        },
        "outputId": "b90c36b3-b37b-40ab-ce65-e6a1c0ed4f93"
      },
      "source": [
        "from google.colab import drive\n",
        "import shutil\n",
        "\n",
        "drive.mount('/content/drive')\n",
        "shutil.copytree('/content/drive/My Drive/MNIST','/content/MNIST')"
      ],
      "execution_count": 1,
      "outputs": [
        {
          "output_type": "stream",
          "text": [
            "Go to this URL in a browser: https://accounts.google.com/o/oauth2/auth?client_id=947318989803-6bn6qk8qdgf4n4g3pfee6491hc0brc4i.apps.googleusercontent.com&redirect_uri=urn%3aietf%3awg%3aoauth%3a2.0%3aoob&response_type=code&scope=email%20https%3a%2f%2fwww.googleapis.com%2fauth%2fdocs.test%20https%3a%2f%2fwww.googleapis.com%2fauth%2fdrive%20https%3a%2f%2fwww.googleapis.com%2fauth%2fdrive.photos.readonly%20https%3a%2f%2fwww.googleapis.com%2fauth%2fpeopleapi.readonly\n",
            "\n",
            "Enter your authorization code:\n",
            "··········\n",
            "Mounted at /content/drive\n"
          ],
          "name": "stdout"
        },
        {
          "output_type": "execute_result",
          "data": {
            "text/plain": [
              "'/content/MNIST'"
            ]
          },
          "metadata": {
            "tags": []
          },
          "execution_count": 1
        }
      ]
    },
    {
      "cell_type": "code",
      "metadata": {
        "id": "T-PLM_Zo3tU2",
        "colab_type": "code",
        "colab": {}
      },
      "source": [
        "train_data_path = '/content/MNIST/train_max_x'\n",
        "test_data_path = '/content/MNIST/test_max_x'\n",
        "label_file = '/content/MNIST/train_max_y.csv'"
      ],
      "execution_count": 2,
      "outputs": []
    },
    {
      "cell_type": "markdown",
      "metadata": {
        "id": "p_Aca_Mv3j-f",
        "colab_type": "text"
      },
      "source": [
        "# ***Read the dataset and show an example***"
      ]
    },
    {
      "cell_type": "code",
      "metadata": {
        "id": "EAzBjkhp3FZb",
        "colab_type": "code",
        "colab": {}
      },
      "source": [
        "import numpy as np\n",
        "import pandas as pd\n",
        "from sklearn.model_selection import train_test_split\n",
        "import matplotlib.pyplot as plt\n",
        "\n",
        "dataset = pd.read_pickle(train_data_path).astype(np.uint8)\n",
        "#test_data = pd.read_pickle(test_data_path)\n",
        "train_label = pd.read_csv(label_file)\n",
        "y = train_label['Label']"
      ],
      "execution_count": 3,
      "outputs": []
    },
    {
      "cell_type": "code",
      "metadata": {
        "id": "EbppHid-7Adi",
        "colab_type": "code",
        "colab": {}
      },
      "source": [
        "'''dataset = (dataset/255.0 - 0.5).astype(np.float16)\n",
        "#test_data = test_data/255.0\n",
        "number_of_label = np.unique(np.array(y), return_counts=True)\n",
        "test_size = 0.8\n",
        "X_train = dataset[:int(test_size*len(dataset))]\n",
        "X_test = dataset[int(test_size*len(dataset)):]\n",
        "Y_train = np.array(y)[:int(test_size*len(dataset))]\n",
        "Y_test = np.array(y)[int(test_size*len(dataset)):]'''\n",
        "\n",
        "number_of_label = np.unique(np.array(y), return_counts=True)\n",
        "test_size = 0.8\n",
        "X_train = dataset[:int(test_size*len(dataset))]\n",
        "X_test = dataset[int(test_size*len(dataset)):]\n",
        "Y_train = np.array(y)[:int(test_size*len(dataset))]\n",
        "Y_test = np.array(y)[int(test_size*len(dataset)):]\n",
        "\n",
        "def data_preprocessing(data):\n",
        "  dataout = (data/255.0).astype(np.float16)\n",
        "  return dataout\n"
      ],
      "execution_count": 24,
      "outputs": []
    },
    {
      "cell_type": "code",
      "metadata": {
        "id": "eHowYLG6PCXj",
        "colab_type": "code",
        "colab": {}
      },
      "source": [
        "i = np.random.randint(0, X_train.shape[0])\n",
        "sample = data_preprocessing(X_train)[i]\n",
        "print(Y_train[i], sample)\n",
        "plt.imshow(sample.astype(np.float32))"
      ],
      "execution_count": null,
      "outputs": []
    },
    {
      "cell_type": "code",
      "metadata": {
        "id": "oxEXKF8RT_4m",
        "colab_type": "code",
        "colab": {
          "base_uri": "https://localhost:8080/",
          "height": 1000
        },
        "outputId": "b8533a1a-79bd-40ba-f4b0-8adb206a2d2b"
      },
      "source": [
        "display = sample[55:85, 40:70]\n",
        "plt.imshow(display.astype(np.float32))\n",
        "print(display)"
      ],
      "execution_count": 26,
      "outputs": [
        {
          "output_type": "stream",
          "text": [
            "[[0.443   0.6704  0.7217  0.7256  0.298   0.051   0.2627  0.678   0.847\n",
            "  0.7295  0.533   0.3215  0.255   0.2118  0.3452  0.4038  0.5845  0.678\n",
            "  0.796   0.8037  0.714   0.7764  0.682   0.4392  0.4197  0.4785  0.2864\n",
            "  0.498   0.5254  0.6665 ]\n",
            " [0.6     0.4666  0.678   0.7217  0.102   0.04706 0.392   0.8433  0.8076\n",
            "  0.741   0.753   0.3882  0.5215  0.4275  0.3098  0.565   0.816   0.647\n",
            "  0.8354  0.788   0.655   0.4746  0.608   0.7646  0.7373  0.255   0.306\n",
            "  0.2471  0.4941  0.8784 ]\n",
            " [0.502   0.4626  0.4785  0.302   0.306   0.4038  0.1686  0.847   0.7803\n",
            "  0.82    0.7373  0.6274  0.647   0.612   0.3098  0.8276  0.749   0.8394\n",
            "  0.855   0.7764  0.506   0.251   0.655   0.8315  0.6157  0.2903  0.408\n",
            "  0.741   0.4158  0.6196 ]\n",
            " [0.498   0.6274  0.1216  0.      0.5215  0.4863  0.2942  0.6157  0.7217\n",
            "  0.749   0.7803  0.7373  0.7295  0.396   0.5728  0.9136  0.5137  0.6626\n",
            "  0.8037  0.749   0.4626  0.2783  0.8276  0.7725  0.5605  0.2864  0.7607\n",
            "  0.847   0.541   0.5884 ]\n",
            " [0.596   0.1647  0.03137 0.1569  0.341   0.2313  0.6743  0.847   0.6235\n",
            "  0.5728  0.655   0.753   0.6626  0.2783  0.651   0.608   0.353   0.2471\n",
            "  0.4548  0.3687  0.2783  0.6157  0.8037  0.796   0.353   0.4275  0.8\n",
            "  0.749   0.7764  0.537  ]\n",
            " [0.447   0.2783  0.506   0.6587  0.4746  0.3452  0.796   0.796   0.7607\n",
            "  0.596   0.4941  0.5566  0.4666  0.1216  0.3333  0.2274  0.149   0.2864\n",
            "  0.451   0.251   0.4314  0.8     0.8115  0.678   0.506   0.541   0.6157\n",
            "  0.4941  0.5728  0.5137 ]\n",
            " [0.7295  0.6587  0.678   0.682   0.502   0.612   0.8745  0.741   0.7373\n",
            "  0.6587  0.4548  0.6704  0.51    0.00784 0.447   0.2627  0.2783  0.6196\n",
            "  0.5176  0.408   0.498   0.847   0.8037  0.6743  0.7686  0.549   0.698\n",
            "  0.682   0.651   0.71   ]\n",
            " [0.7217  0.639   0.6235  0.612   0.537   0.5923  0.847   0.753   0.682\n",
            "  0.686   0.498   0.4119  0.3647  0.1333  0.502   0.6943  0.6274  0.2825\n",
            "  0.4     0.541   0.651   0.7725  0.71    0.6196  0.859   0.533   0.686\n",
            "  0.678   0.6235  0.639  ]\n",
            " [0.7217  0.718   0.682   0.682   0.686   0.3765  0.153   0.608   0.7646\n",
            "  0.678   0.5605  0.02353 0.1294  0.5566  0.749   0.5884  0.5215  0.698\n",
            "  0.6704  0.549   0.647   0.7803  0.565   0.392   0.714   0.4863  0.651\n",
            "  0.6743  0.5527  0.5527 ]\n",
            " [0.545   0.6196  0.5767  0.4824  0.4392  0.0902  0.      0.0784  0.4038\n",
            "  0.6235  0.4314  0.3293  0.3254  0.7217  0.643   0.647   0.533   0.651\n",
            "  0.6196  0.5566  0.392   0.6313  0.7217  0.71    0.741   0.443   0.4275\n",
            "  0.5137  0.71    0.6904 ]\n",
            " [0.2313  0.3137  0.2118  0.2313  0.1726  0.2354  0.3687  0.5923  0.2744\n",
            "  0.4236  0.7803  0.443   0.2588  0.784   0.682   0.6704  0.6157  0.6353\n",
            "  0.5566  0.1569  0.2627  0.7764  0.8706  0.847   0.7217  0.6274  0.6704\n",
            "  0.4824  0.392   0.612  ]\n",
            " [0.02353 0.2235  0.306   0.5137  0.6943  0.6743  0.714   0.6665  0.6157\n",
            "  0.4119  0.1686  0.      0.4197  0.784   0.608   0.5254  0.341   0.2864\n",
            "  0.2432  0.2744  0.3176  0.506   0.6943  0.682   0.5923  0.5605  0.749\n",
            "  0.702   0.5923  0.4158 ]\n",
            " [0.3843  0.4158  0.643   0.71    0.682   0.6235  0.6274  0.6353  0.596\n",
            "  0.5254  0.1333  0.      0.4785  0.502   0.545   0.5527  0.3647  0.506\n",
            "  0.51    0.678   0.4666  0.3333  0.7373  0.7256  0.6626  0.565   0.655\n",
            "  0.6704  0.7334  0.5293 ]\n",
            " [0.1569  0.647   0.7803  0.6626  0.5293  0.549   0.639   0.6626  0.533\n",
            "  0.4197  0.5176  0.4197  0.647   0.604   0.741   0.6353  0.596   0.596\n",
            "  0.2     0.7686  0.655   0.2313  0.639   0.757   0.6743  0.6353  0.682\n",
            "  0.6943  0.6587  0.6    ]\n",
            " [0.      0.3098  0.5215  0.4158  0.341   0.4707  0.451   0.5176  0.4158\n",
            "  0.6943  0.757   0.5884  0.5806  0.6196  0.7686  0.639   0.655   0.2432\n",
            "  0.      0.686   0.7607  0.298   0.7334  0.686   0.71    0.745   0.655\n",
            "  0.498   0.5254  0.5176 ]\n",
            " [0.1216  0.3765  0.5137  0.4119  0.098   0.2864  0.502   0.2354  0.447\n",
            "  0.847   0.6196  0.655   0.6904  0.7373  0.6743  0.6704  0.5884  0.1451\n",
            "  0.      0.4     0.855   0.196   0.2393  0.408   0.4038  0.4902  0.3452\n",
            "  0.1098  0.1098  0.03137]\n",
            " [0.51    0.682   0.702   0.643   0.02353 0.0196  0.392   0.2354  0.8276\n",
            "  0.8237  0.6626  0.655   0.678   0.6743  0.651   0.5767  0.686   0.4119\n",
            "  0.00784 0.03137 0.255   0.2274  0.2783  0.1333  0.5566  0.4587  0.1647\n",
            "  0.00784 0.02745 0.     ]\n",
            " [0.686   0.6353  0.5254  0.4119  0.01569 0.298   0.2118  0.2079  0.565\n",
            "  0.6704  0.7334  0.7334  0.714   0.6704  0.4158  0.608   0.6743  0.5767\n",
            "  0.1765  0.      0.3726  0.545   0.2274  0.03137 0.3647  0.5215  0.2393\n",
            "  0.      0.      0.1921 ]\n",
            " [0.6353  0.5293  0.298   0.3098  0.03137 0.4785  0.3608  0.2471  0.2354\n",
            "  0.396   0.4707  0.5605  0.6313  0.6196  0.71    0.745   0.6274  0.655\n",
            "  0.4197  0.0392  0.2118  0.596   0.0784  0.03137 0.2627  0.6353  0.604\n",
            "  0.4236  0.1647  0.1921 ]\n",
            " [0.596   0.3843  0.2864  0.1255  0.06274 0.6     0.4119  0.341   0.3765\n",
            "  0.341   0.451   0.3882  0.396   0.7646  0.741   0.678   0.639   0.647\n",
            "  0.6274  0.1726  0.03137 0.3254  0.3333  0.1843  0.4902  0.796   0.678\n",
            "  0.698   0.6904  0.3843 ]\n",
            " [0.612   0.306   0.03137 0.      0.451   0.6     0.4158  0.6587  0.702\n",
            "  0.686   0.718   0.604   0.643   0.753   0.6943  0.6904  0.6704  0.6313\n",
            "  0.6     0.1726  0.      0.2783  0.498   0.4707  0.6665  0.7803  0.686\n",
            "  0.6943  0.6587  0.6313 ]\n",
            " [0.596   0.2313  0.      0.00392 0.596   0.643   0.4746  0.7217  0.6274\n",
            "  0.6904  0.5845  0.498   0.784   0.6587  0.702   0.6943  0.6665  0.6704\n",
            "  0.5254  0.03137 0.0353  0.3882  0.541   0.5884  0.5728  0.8037  0.714\n",
            "  0.655   0.647   0.596  ]\n",
            " [0.647   0.2783  0.      0.03137 0.682   0.7607  0.682   0.686   0.6196\n",
            "  0.5527  0.4746  0.549   0.7256  0.6943  0.7217  0.6743  0.706   0.6704\n",
            "  0.6313  0.1412  0.0706  0.612   0.655   0.6353  0.5215  0.6274  0.7217\n",
            "  0.686   0.541   0.2313 ]\n",
            " [0.3215  0.1608  0.149   0.204   0.71    0.682   0.682   0.6704  0.6943\n",
            "  0.647   0.5293  0.3333  0.3137  0.6665  0.714   0.7373  0.6626  0.6157\n",
            "  0.6665  0.3372  0.541   0.706   0.651   0.5845  0.6587  0.3882  0.6943\n",
            "  0.639   0.3882  0.2705 ]\n",
            " [0.4038  0.4275  0.5215  0.3098  0.655   0.7373  0.643   0.6196  0.655\n",
            "  0.655   0.5293  0.2471  0.447   0.0784  0.302   0.706   0.718   0.6704\n",
            "  0.639   0.6665  0.7256  0.608   0.6157  0.6353  0.596   0.3452  0.655\n",
            "  0.612   0.2942  0.502  ]\n",
            " [0.608   0.545   0.4392  0.102   0.4746  0.7764  0.6157  0.647   0.651\n",
            "  0.6665  0.1726  0.6157  0.643   0.1921  0.02353 0.1216  0.3882  0.6353\n",
            "  0.6626  0.639   0.608   0.6353  0.6274  0.651   0.4197  0.5215  0.5566\n",
            "  0.71    0.5215  0.6626 ]\n",
            " [0.3293  0.2627  0.1294  0.00392 0.408   0.7686  0.612   0.678   0.6943\n",
            "  0.5137  0.4548  0.7686  0.4353  0.4548  0.3882  0.196   0.2079  0.6704\n",
            "  0.698   0.5923  0.6313  0.4902  0.6626  0.6235  0.5215  0.6157  0.443\n",
            "  0.702   0.741   0.698  ]\n",
            " [0.3687  0.533   0.612   0.4392  0.4548  0.702   0.569   0.612   0.639\n",
            "  0.604   0.6704  0.3293  0.5293  0.753   0.6704  0.639   0.639   0.5806\n",
            "  0.5137  0.3882  0.4158  0.596   0.714   0.6943  0.6626  0.6274  0.4863\n",
            "  0.541   0.7373  0.6904 ]\n",
            " [0.5605  0.549   0.6274  0.4785  0.4275  0.698   0.502   0.447   0.608\n",
            "  0.6943  0.5566  0.5767  0.612   0.796   0.702   0.6313  0.565   0.3137\n",
            "  0.2     0.647   0.5845  0.2393  0.2705  0.4666  0.4666  0.5293  0.4197\n",
            "  0.2666  0.651   0.702  ]\n",
            " [0.4707  0.4197  0.306   0.3882  0.4158  0.4158  0.2744  0.2393  0.6943\n",
            "  0.6943  0.6587  0.6235  0.5767  0.753   0.741   0.5767  0.4275  0.3843\n",
            "  0.408   0.792   0.714   0.3452  0.149   0.04315 0.3452  0.506   0.4707\n",
            "  0.5527  0.2627  0.3882 ]]\n"
          ],
          "name": "stdout"
        },
        {
          "output_type": "display_data",
          "data": {
            "image/png": "[encoded data removed]",
            "text/plain": [
              "<Figure size 432x288 with 1 Axes>"
            ]
          },
          "metadata": {
            "tags": [],
            "needs_background": "light"
          }
        }
      ]
    },
    {
      "cell_type": "code",
      "metadata": {
        "id": "t1_2Dx2I8__f",
        "colab_type": "code",
        "colab": {
          "base_uri": "https://localhost:8080/",
          "height": 284
        },
        "outputId": "61f7c2c6-352c-4310-a6fb-1ab0df9df7d4"
      },
      "source": [
        "#X_train = np.expand_dims(X_train, axis=3)\n",
        "#X_test = np.expand_dims(X_test, axis=3)\n",
        "\n",
        "#print(X_train.shape, X_test.shape)\n",
        "plt.hist(np.array(Y_train), bins=range(len(number_of_label[0])))\n",
        "number_of_label[0]\n",
        "\n",
        "b = np.zeros((Y_train.size, Y_train.max()+1))\n",
        "b[np.arange(Y_train.size),Y_train] = 1\n",
        "Y_train = b\n",
        "\n",
        "b = np.zeros((Y_test.size, Y_test.max()+1))\n",
        "b[np.arange(Y_test.size),Y_test] = 1\n",
        "Y_test = b\n",
        "\n",
        "def data_preprocessing2(data):\n",
        "  dataout = (data/255.0)\n",
        "  dataout = np.expand_dims(dataout, axis=3)\n",
        "  return dataout\n",
        "\n",
        "print(data_preprocessing2(X_train).shape, data_preprocessing2(X_test).shape)"
      ],
      "execution_count": 27,
      "outputs": [
        {
          "output_type": "stream",
          "text": [
            "(40000, 128, 128, 1) (10000, 128, 128, 1)\n"
          ],
          "name": "stdout"
        },
        {
          "output_type": "display_data",
          "data": {
            "image/png": "[encoded data removed]",
            "text/plain": [
              "<Figure size 432x288 with 1 Axes>"
            ]
          },
          "metadata": {
            "tags": [],
            "needs_background": "light"
          }
        }
      ]
    },
    {
      "cell_type": "markdown",
      "metadata": {
        "id": "CQ7hsxvLSEpC",
        "colab_type": "text"
      },
      "source": [
        "# ***Pipeline X***"
      ]
    },
    {
      "cell_type": "code",
      "metadata": {
        "id": "XvqrtxsISIaL",
        "colab_type": "code",
        "colab": {
          "base_uri": "https://localhost:8080/",
          "height": 336
        },
        "outputId": "48e20a6e-e01a-486d-ef5e-d9810984cbe8"
      },
      "source": [
        "import cv2\n",
        "def pipeline_X(data):\n",
        "  dataout = []\n",
        "  return dataout\n",
        "\n",
        "plt.imshow(sample.astype(np.float32))\n",
        "ret, black_white = cv2.threshold((sample*255).astype(np.uint8), 254, 255, 0)\n",
        "plt.imshow(black_white.astype(np.float32))\n",
        "contours, hierarchy = cv2.findContours(black_white, cv2.RETR_TREE, cv2.CHAIN_APPROX_SIMPLE)\n",
        "print(len(contours), hierarchy)"
      ],
      "execution_count": 89,
      "outputs": [
        {
          "output_type": "stream",
          "text": [
            "4 [[[ 1 -1 -1 -1]\n",
            "  [ 3  0  2 -1]\n",
            "  [-1 -1 -1  1]\n",
            "  [-1  1 -1 -1]]]\n"
          ],
          "name": "stdout"
        },
        {
          "output_type": "display_data",
          "data": {
            "image/png": "[encoded data removed]",
            "text/plain": [
              "<Figure size 432x288 with 1 Axes>"
            ]
          },
          "metadata": {
            "tags": [],
            "needs_background": "light"
          }
        }
      ]
    },
    {
      "cell_type": "code",
      "metadata": {
        "id": "K4AJjqOLW6tS",
        "colab_type": "code",
        "colab": {
          "base_uri": "https://localhost:8080/",
          "height": 136
        },
        "outputId": "912eee02-fdda-4e32-c0e6-7a526610ade7"
      },
      "source": [
        "(sample*255).astype(np.uint8)"
      ],
      "execution_count": 79,
      "outputs": [
        {
          "output_type": "execute_result",
          "data": {
            "text/plain": [
              "array([[172, 174, 178, ...,  92, 180, 131],\n",
              "       [173, 179, 174, ...,  53,  84,  33],\n",
              "       [168, 174, 183, ...,  88,   0,   0],\n",
              "       ...,\n",
              "       [ 87, 159, 175, ..., 136, 141,  91],\n",
              "       [136, 177, 186, ..., 168, 133, 141],\n",
              "       [115, 173, 160, ..., 160, 168, 167]], dtype=uint8)"
            ]
          },
          "metadata": {
            "tags": []
          },
          "execution_count": 79
        }
      ]
    },
    {
      "cell_type": "code",
      "metadata": {
        "id": "B73ll9yKTzk4",
        "colab_type": "code",
        "colab": {
          "base_uri": "https://localhost:8080/",
          "height": 153
        },
        "outputId": "9fc91bbc-399a-4ef6-fe29-57f7bf9c6401"
      },
      "source": [
        "sample"
      ],
      "execution_count": 48,
      "outputs": [
        {
          "output_type": "execute_result",
          "data": {
            "text/plain": [
              "array([[0.6743, 0.682 , 0.698 , ..., 0.3608, 0.706 , 0.5137],\n",
              "       [0.678 , 0.702 , 0.682 , ..., 0.2079, 0.3293, 0.1294],\n",
              "       [0.6587, 0.682 , 0.718 , ..., 0.3452, 0.    , 0.    ],\n",
              "       ...,\n",
              "       [0.341 , 0.6235, 0.686 , ..., 0.533 , 0.5527, 0.357 ],\n",
              "       [0.533 , 0.6943, 0.7295, ..., 0.6587, 0.5215, 0.5527],\n",
              "       [0.451 , 0.678 , 0.6274, ..., 0.6274, 0.6587, 0.655 ]],\n",
              "      dtype=float16)"
            ]
          },
          "metadata": {
            "tags": []
          },
          "execution_count": 48
        }
      ]
    },
    {
      "cell_type": "markdown",
      "metadata": {
        "id": "1A5Px00cCBDZ",
        "colab_type": "text"
      },
      "source": [
        "# ***Keras Solution***"
      ]
    },
    {
      "cell_type": "code",
      "metadata": {
        "id": "mhInCMTQB8JY",
        "colab_type": "code",
        "colab": {}
      },
      "source": [
        "import tensorflow as tf\n",
        "from tensorflow.keras import Sequential\n",
        "from tensorflow.keras.layers import Conv2D, Dense, Dropout, BatchNormalization, Flatten, MaxPool2D, GlobalMaxPooling2D\n",
        "from tensorflow.keras.optimizers import Adam, SGD"
      ],
      "execution_count": 17,
      "outputs": []
    },
    {
      "cell_type": "code",
      "metadata": {
        "id": "qU0tVNI6CoeG",
        "colab_type": "code",
        "colab": {}
      },
      "source": [
        "def create_model(conv2d_1=32, str_1=1, conv2d_2=32, str_2=1, dense_node=32, dr=0.0):\n",
        "  my_model = Sequential()\n",
        "  my_model.add(Conv2D(conv2d_1, kernel_size=(3,3), strides=(str_1, str_1), activation='relu', input_shape=(X_train.shape[1], X_train.shape[2], 1)))\n",
        "  my_model.add(Conv2D(conv2d_2, kernel_size=(3,3), activation='relu'))\n",
        "  my_model.add(MaxPool2D(pool_size=(2,2)))\n",
        "  my_model.add(Flatten())\n",
        "  my_model.add(Dropout(dr))\n",
        "  my_model.add(BatchNormalization())\n",
        "  my_model.add(Dense(dense_node, activation='relu'))\n",
        "  my_model.add(Dropout(dr))\n",
        "  #my_model.add(Dense(3, activation='relu'))\n",
        "  my_model.add(Dense(len(number_of_label[0]), activation='softmax'))\n",
        "\n",
        "  #my_model.add(Flatten(input_shape=(X_train.shape[1], X_train.shape[2], 1)))\n",
        "  #my_model.add(Dense(128*128, activation='relu'))\n",
        "  #my_model.add(Dense(len(number_of_label[0]), activation='softmax'))\n",
        "  #my_model.add(Dense(1, activation='relu'))\n",
        "\n",
        "  optimizerAdam = Adam(lr=0.0001, amsgrad=True)\n",
        "  optimizerSGD = SGD(learning_rate=0.005, momentum=0.001, nesterov=False)\n",
        "  \n",
        "  my_model.compile(loss='categorical_crossentropy',\n",
        "                optimizer=optimizerSGD,\n",
        "                metrics=['accuracy'])\n",
        "\n",
        "  #my_model.compile(loss='sparse_categorical_crossentropy',\n",
        "  #              optimizer=optimizerSGD,\n",
        "  #              metrics=['accuracy'])\n",
        "  \n",
        "  return my_model"
      ],
      "execution_count": 36,
      "outputs": []
    },
    {
      "cell_type": "code",
      "metadata": {
        "id": "GVtA1qgSPwDx",
        "colab_type": "code",
        "colab": {}
      },
      "source": [
        "X_train_float = X_train.astype(np.float16)\n",
        "Processed_X = tf.py_function(data_preprocessing2, inp=[X_train_float], Tout=tf.float16)"
      ],
      "execution_count": 33,
      "outputs": []
    },
    {
      "cell_type": "code",
      "metadata": {
        "id": "pO9UtLxkFjpT",
        "colab_type": "code",
        "colab": {
          "base_uri": "https://localhost:8080/",
          "height": 459
        },
        "outputId": "a07a7496-5662-4156-ab90-5d20e186ecb3"
      },
      "source": [
        "BATCH = 256\n",
        "my_model = create_model(conv2d_1=128, str_1=2, conv2d_2=128, str_2=1, dense_node=64, dr=0.4)\n",
        "my_model.summary()"
      ],
      "execution_count": 37,
      "outputs": [
        {
          "output_type": "stream",
          "text": [
            "Model: \"sequential_2\"\n",
            "_________________________________________________________________\n",
            "Layer (type)                 Output Shape              Param #   \n",
            "=================================================================\n",
            "conv2d_2 (Conv2D)            (None, 63, 63, 128)       1280      \n",
            "_________________________________________________________________\n",
            "conv2d_3 (Conv2D)            (None, 61, 61, 128)       147584    \n",
            "_________________________________________________________________\n",
            "max_pooling2d_1 (MaxPooling2 (None, 30, 30, 128)       0         \n",
            "_________________________________________________________________\n",
            "flatten_2 (Flatten)          (None, 115200)            0         \n",
            "_________________________________________________________________\n",
            "dropout_2 (Dropout)          (None, 115200)            0         \n",
            "_________________________________________________________________\n",
            "batch_normalization_1 (Batch (None, 115200)            460800    \n",
            "_________________________________________________________________\n",
            "dense_5 (Dense)              (None, 64)                7372864   \n",
            "_________________________________________________________________\n",
            "dropout_3 (Dropout)          (None, 64)                0         \n",
            "_________________________________________________________________\n",
            "dense_6 (Dense)              (None, 10)                650       \n",
            "=================================================================\n",
            "Total params: 7,983,178\n",
            "Trainable params: 7,752,778\n",
            "Non-trainable params: 230,400\n",
            "_________________________________________________________________\n"
          ],
          "name": "stdout"
        }
      ]
    },
    {
      "cell_type": "code",
      "metadata": {
        "id": "D7riYRUIFrqt",
        "colab_type": "code",
        "colab": {
          "base_uri": "https://localhost:8080/",
          "height": 462
        },
        "outputId": "b75b7258-92bf-4f0f-cd9f-158a4831b23f"
      },
      "source": [
        "early_stop = tf.keras.callbacks.EarlyStopping(monitor='val_accuracy', patience=50)\n",
        "filepath=\"weight_model_cnn_best.h5\"\n",
        "checkpoint = tf.keras.callbacks.ModelCheckpoint(filepath, monitor='val_accuracy', save_weights_only=False, verbose=1, save_best_only=True, mode='max')\n",
        "\n",
        "\n",
        "history = my_model.fit(\n",
        "  Processed_X, Y_train,\n",
        "  epochs=300, validation_split = 0.2, verbose=1,\n",
        "  batch_size = BATCH, shuffle=True,\n",
        "  callbacks=[early_stop, checkpoint])"
      ],
      "execution_count": 38,
      "outputs": [
        {
          "output_type": "stream",
          "text": [
            "Epoch 1/300\n",
            "125/125 [==============================] - ETA: 0s - loss: 2.1458 - accuracy: 0.2022\n",
            "Epoch 00001: val_accuracy improved from -inf to 0.26575, saving model to weight_model_cnn_best.h5\n",
            "125/125 [==============================] - 73s 586ms/step - loss: 2.1458 - accuracy: 0.2022 - val_loss: 2.2216 - val_accuracy: 0.2657\n",
            "Epoch 2/300\n",
            "112/125 [=========================>....] - ETA: 6s - loss: 2.0301 - accuracy: 0.2356"
          ],
          "name": "stdout"
        },
        {
          "output_type": "error",
          "ename": "KeyboardInterrupt",
          "evalue": "ignored",
          "traceback": [
            "\u001b[0;31m---------------------------------------------------------------------------\u001b[0m",
            "\u001b[0;31mKeyboardInterrupt\u001b[0m                         Traceback (most recent call last)",
            "\u001b[0;32m<ipython-input-38-5f274314eb79>\u001b[0m in \u001b[0;36m<module>\u001b[0;34m()\u001b[0m\n\u001b[1;32m      8\u001b[0m   \u001b[0mepochs\u001b[0m\u001b[0;34m=\u001b[0m\u001b[0;36m300\u001b[0m\u001b[0;34m,\u001b[0m \u001b[0mvalidation_split\u001b[0m \u001b[0;34m=\u001b[0m \u001b[0;36m0.2\u001b[0m\u001b[0;34m,\u001b[0m \u001b[0mverbose\u001b[0m\u001b[0;34m=\u001b[0m\u001b[0;36m1\u001b[0m\u001b[0;34m,\u001b[0m\u001b[0;34m\u001b[0m\u001b[0;34m\u001b[0m\u001b[0m\n\u001b[1;32m      9\u001b[0m   \u001b[0mbatch_size\u001b[0m \u001b[0;34m=\u001b[0m \u001b[0mBATCH\u001b[0m\u001b[0;34m,\u001b[0m \u001b[0mshuffle\u001b[0m\u001b[0;34m=\u001b[0m\u001b[0;32mTrue\u001b[0m\u001b[0;34m,\u001b[0m\u001b[0;34m\u001b[0m\u001b[0;34m\u001b[0m\u001b[0m\n\u001b[0;32m---> 10\u001b[0;31m   callbacks=[early_stop, checkpoint])\n\u001b[0m",
            "\u001b[0;32m/usr/local/lib/python3.6/dist-packages/tensorflow/python/keras/engine/training.py\u001b[0m in \u001b[0;36m_method_wrapper\u001b[0;34m(self, *args, **kwargs)\u001b[0m\n\u001b[1;32m     64\u001b[0m   \u001b[0;32mdef\u001b[0m \u001b[0m_method_wrapper\u001b[0m\u001b[0;34m(\u001b[0m\u001b[0mself\u001b[0m\u001b[0;34m,\u001b[0m \u001b[0;34m*\u001b[0m\u001b[0margs\u001b[0m\u001b[0;34m,\u001b[0m \u001b[0;34m**\u001b[0m\u001b[0mkwargs\u001b[0m\u001b[0;34m)\u001b[0m\u001b[0;34m:\u001b[0m\u001b[0;34m\u001b[0m\u001b[0;34m\u001b[0m\u001b[0m\n\u001b[1;32m     65\u001b[0m     \u001b[0;32mif\u001b[0m \u001b[0;32mnot\u001b[0m \u001b[0mself\u001b[0m\u001b[0;34m.\u001b[0m\u001b[0m_in_multi_worker_mode\u001b[0m\u001b[0;34m(\u001b[0m\u001b[0;34m)\u001b[0m\u001b[0;34m:\u001b[0m  \u001b[0;31m# pylint: disable=protected-access\u001b[0m\u001b[0;34m\u001b[0m\u001b[0;34m\u001b[0m\u001b[0m\n\u001b[0;32m---> 66\u001b[0;31m       \u001b[0;32mreturn\u001b[0m \u001b[0mmethod\u001b[0m\u001b[0;34m(\u001b[0m\u001b[0mself\u001b[0m\u001b[0;34m,\u001b[0m \u001b[0;34m*\u001b[0m\u001b[0margs\u001b[0m\u001b[0;34m,\u001b[0m \u001b[0;34m**\u001b[0m\u001b[0mkwargs\u001b[0m\u001b[0;34m)\u001b[0m\u001b[0;34m\u001b[0m\u001b[0;34m\u001b[0m\u001b[0m\n\u001b[0m\u001b[1;32m     67\u001b[0m \u001b[0;34m\u001b[0m\u001b[0m\n\u001b[1;32m     68\u001b[0m     \u001b[0;31m# Running inside `run_distribute_coordinator` already.\u001b[0m\u001b[0;34m\u001b[0m\u001b[0;34m\u001b[0m\u001b[0;34m\u001b[0m\u001b[0m\n",
            "\u001b[0;32m/usr/local/lib/python3.6/dist-packages/tensorflow/python/keras/engine/training.py\u001b[0m in \u001b[0;36mfit\u001b[0;34m(self, x, y, batch_size, epochs, verbose, callbacks, validation_split, validation_data, shuffle, class_weight, sample_weight, initial_epoch, steps_per_epoch, validation_steps, validation_batch_size, validation_freq, max_queue_size, workers, use_multiprocessing)\u001b[0m\n\u001b[1;32m    853\u001b[0m                 \u001b[0mcontext\u001b[0m\u001b[0;34m.\u001b[0m\u001b[0masync_wait\u001b[0m\u001b[0;34m(\u001b[0m\u001b[0;34m)\u001b[0m\u001b[0;34m\u001b[0m\u001b[0;34m\u001b[0m\u001b[0m\n\u001b[1;32m    854\u001b[0m               \u001b[0mlogs\u001b[0m \u001b[0;34m=\u001b[0m \u001b[0mtmp_logs\u001b[0m  \u001b[0;31m# No error, now safe to assign to logs.\u001b[0m\u001b[0;34m\u001b[0m\u001b[0;34m\u001b[0m\u001b[0m\n\u001b[0;32m--> 855\u001b[0;31m               \u001b[0mcallbacks\u001b[0m\u001b[0;34m.\u001b[0m\u001b[0mon_train_batch_end\u001b[0m\u001b[0;34m(\u001b[0m\u001b[0mstep\u001b[0m\u001b[0;34m,\u001b[0m \u001b[0mlogs\u001b[0m\u001b[0;34m)\u001b[0m\u001b[0;34m\u001b[0m\u001b[0;34m\u001b[0m\u001b[0m\n\u001b[0m\u001b[1;32m    856\u001b[0m         \u001b[0mepoch_logs\u001b[0m \u001b[0;34m=\u001b[0m \u001b[0mcopy\u001b[0m\u001b[0;34m.\u001b[0m\u001b[0mcopy\u001b[0m\u001b[0;34m(\u001b[0m\u001b[0mlogs\u001b[0m\u001b[0;34m)\u001b[0m\u001b[0;34m\u001b[0m\u001b[0;34m\u001b[0m\u001b[0m\n\u001b[1;32m    857\u001b[0m \u001b[0;34m\u001b[0m\u001b[0m\n",
            "\u001b[0;32m/usr/local/lib/python3.6/dist-packages/tensorflow/python/keras/callbacks.py\u001b[0m in \u001b[0;36mon_train_batch_end\u001b[0;34m(self, batch, logs)\u001b[0m\n\u001b[1;32m    387\u001b[0m     \"\"\"\n\u001b[1;32m    388\u001b[0m     \u001b[0;32mif\u001b[0m \u001b[0mself\u001b[0m\u001b[0;34m.\u001b[0m\u001b[0m_should_call_train_batch_hooks\u001b[0m\u001b[0;34m:\u001b[0m\u001b[0;34m\u001b[0m\u001b[0;34m\u001b[0m\u001b[0m\n\u001b[0;32m--> 389\u001b[0;31m       \u001b[0mlogs\u001b[0m \u001b[0;34m=\u001b[0m \u001b[0mself\u001b[0m\u001b[0;34m.\u001b[0m\u001b[0m_process_logs\u001b[0m\u001b[0;34m(\u001b[0m\u001b[0mlogs\u001b[0m\u001b[0;34m)\u001b[0m\u001b[0;34m\u001b[0m\u001b[0;34m\u001b[0m\u001b[0m\n\u001b[0m\u001b[1;32m    390\u001b[0m       \u001b[0mself\u001b[0m\u001b[0;34m.\u001b[0m\u001b[0m_call_batch_hook\u001b[0m\u001b[0;34m(\u001b[0m\u001b[0mModeKeys\u001b[0m\u001b[0;34m.\u001b[0m\u001b[0mTRAIN\u001b[0m\u001b[0;34m,\u001b[0m \u001b[0;34m'end'\u001b[0m\u001b[0;34m,\u001b[0m \u001b[0mbatch\u001b[0m\u001b[0;34m,\u001b[0m \u001b[0mlogs\u001b[0m\u001b[0;34m=\u001b[0m\u001b[0mlogs\u001b[0m\u001b[0;34m)\u001b[0m\u001b[0;34m\u001b[0m\u001b[0;34m\u001b[0m\u001b[0m\n\u001b[1;32m    391\u001b[0m \u001b[0;34m\u001b[0m\u001b[0m\n",
            "\u001b[0;32m/usr/local/lib/python3.6/dist-packages/tensorflow/python/keras/callbacks.py\u001b[0m in \u001b[0;36m_process_logs\u001b[0;34m(self, logs)\u001b[0m\n\u001b[1;32m    263\u001b[0m     \u001b[0;34m\"\"\"Turns tensors into numpy arrays or Python scalars.\"\"\"\u001b[0m\u001b[0;34m\u001b[0m\u001b[0;34m\u001b[0m\u001b[0m\n\u001b[1;32m    264\u001b[0m     \u001b[0;32mif\u001b[0m \u001b[0mlogs\u001b[0m\u001b[0;34m:\u001b[0m\u001b[0;34m\u001b[0m\u001b[0;34m\u001b[0m\u001b[0m\n\u001b[0;32m--> 265\u001b[0;31m       \u001b[0;32mreturn\u001b[0m \u001b[0mtf_utils\u001b[0m\u001b[0;34m.\u001b[0m\u001b[0mto_numpy_or_python_type\u001b[0m\u001b[0;34m(\u001b[0m\u001b[0mlogs\u001b[0m\u001b[0;34m)\u001b[0m\u001b[0;34m\u001b[0m\u001b[0;34m\u001b[0m\u001b[0m\n\u001b[0m\u001b[1;32m    266\u001b[0m     \u001b[0;32mreturn\u001b[0m \u001b[0;34m{\u001b[0m\u001b[0;34m}\u001b[0m\u001b[0;34m\u001b[0m\u001b[0;34m\u001b[0m\u001b[0m\n\u001b[1;32m    267\u001b[0m \u001b[0;34m\u001b[0m\u001b[0m\n",
            "\u001b[0;32m/usr/local/lib/python3.6/dist-packages/tensorflow/python/keras/utils/tf_utils.py\u001b[0m in \u001b[0;36mto_numpy_or_python_type\u001b[0;34m(tensors)\u001b[0m\n\u001b[1;32m    521\u001b[0m     \u001b[0;32mreturn\u001b[0m \u001b[0mt\u001b[0m  \u001b[0;31m# Don't turn ragged or sparse tensors to NumPy.\u001b[0m\u001b[0;34m\u001b[0m\u001b[0;34m\u001b[0m\u001b[0m\n\u001b[1;32m    522\u001b[0m \u001b[0;34m\u001b[0m\u001b[0m\n\u001b[0;32m--> 523\u001b[0;31m   \u001b[0;32mreturn\u001b[0m \u001b[0mnest\u001b[0m\u001b[0;34m.\u001b[0m\u001b[0mmap_structure\u001b[0m\u001b[0;34m(\u001b[0m\u001b[0m_to_single_numpy_or_python_type\u001b[0m\u001b[0;34m,\u001b[0m \u001b[0mtensors\u001b[0m\u001b[0;34m)\u001b[0m\u001b[0;34m\u001b[0m\u001b[0;34m\u001b[0m\u001b[0m\n\u001b[0m\u001b[1;32m    524\u001b[0m \u001b[0;34m\u001b[0m\u001b[0m\n",
            "\u001b[0;32m/usr/local/lib/python3.6/dist-packages/tensorflow/python/util/nest.py\u001b[0m in \u001b[0;36mmap_structure\u001b[0;34m(func, *structure, **kwargs)\u001b[0m\n\u001b[1;32m    615\u001b[0m \u001b[0;34m\u001b[0m\u001b[0m\n\u001b[1;32m    616\u001b[0m   return pack_sequence_as(\n\u001b[0;32m--> 617\u001b[0;31m       \u001b[0mstructure\u001b[0m\u001b[0;34m[\u001b[0m\u001b[0;36m0\u001b[0m\u001b[0;34m]\u001b[0m\u001b[0;34m,\u001b[0m \u001b[0;34m[\u001b[0m\u001b[0mfunc\u001b[0m\u001b[0;34m(\u001b[0m\u001b[0;34m*\u001b[0m\u001b[0mx\u001b[0m\u001b[0;34m)\u001b[0m \u001b[0;32mfor\u001b[0m \u001b[0mx\u001b[0m \u001b[0;32min\u001b[0m \u001b[0mentries\u001b[0m\u001b[0;34m]\u001b[0m\u001b[0;34m,\u001b[0m\u001b[0;34m\u001b[0m\u001b[0;34m\u001b[0m\u001b[0m\n\u001b[0m\u001b[1;32m    618\u001b[0m       expand_composites=expand_composites)\n\u001b[1;32m    619\u001b[0m \u001b[0;34m\u001b[0m\u001b[0m\n",
            "\u001b[0;32m/usr/local/lib/python3.6/dist-packages/tensorflow/python/util/nest.py\u001b[0m in \u001b[0;36m<listcomp>\u001b[0;34m(.0)\u001b[0m\n\u001b[1;32m    615\u001b[0m \u001b[0;34m\u001b[0m\u001b[0m\n\u001b[1;32m    616\u001b[0m   return pack_sequence_as(\n\u001b[0;32m--> 617\u001b[0;31m       \u001b[0mstructure\u001b[0m\u001b[0;34m[\u001b[0m\u001b[0;36m0\u001b[0m\u001b[0;34m]\u001b[0m\u001b[0;34m,\u001b[0m \u001b[0;34m[\u001b[0m\u001b[0mfunc\u001b[0m\u001b[0;34m(\u001b[0m\u001b[0;34m*\u001b[0m\u001b[0mx\u001b[0m\u001b[0;34m)\u001b[0m \u001b[0;32mfor\u001b[0m \u001b[0mx\u001b[0m \u001b[0;32min\u001b[0m \u001b[0mentries\u001b[0m\u001b[0;34m]\u001b[0m\u001b[0;34m,\u001b[0m\u001b[0;34m\u001b[0m\u001b[0;34m\u001b[0m\u001b[0m\n\u001b[0m\u001b[1;32m    618\u001b[0m       expand_composites=expand_composites)\n\u001b[1;32m    619\u001b[0m \u001b[0;34m\u001b[0m\u001b[0m\n",
            "\u001b[0;32m/usr/local/lib/python3.6/dist-packages/tensorflow/python/keras/utils/tf_utils.py\u001b[0m in \u001b[0;36m_to_single_numpy_or_python_type\u001b[0;34m(t)\u001b[0m\n\u001b[1;32m    517\u001b[0m   \u001b[0;32mdef\u001b[0m \u001b[0m_to_single_numpy_or_python_type\u001b[0m\u001b[0;34m(\u001b[0m\u001b[0mt\u001b[0m\u001b[0;34m)\u001b[0m\u001b[0;34m:\u001b[0m\u001b[0;34m\u001b[0m\u001b[0;34m\u001b[0m\u001b[0m\n\u001b[1;32m    518\u001b[0m     \u001b[0;32mif\u001b[0m \u001b[0misinstance\u001b[0m\u001b[0;34m(\u001b[0m\u001b[0mt\u001b[0m\u001b[0;34m,\u001b[0m \u001b[0mops\u001b[0m\u001b[0;34m.\u001b[0m\u001b[0mTensor\u001b[0m\u001b[0;34m)\u001b[0m\u001b[0;34m:\u001b[0m\u001b[0;34m\u001b[0m\u001b[0;34m\u001b[0m\u001b[0m\n\u001b[0;32m--> 519\u001b[0;31m       \u001b[0mx\u001b[0m \u001b[0;34m=\u001b[0m \u001b[0mt\u001b[0m\u001b[0;34m.\u001b[0m\u001b[0mnumpy\u001b[0m\u001b[0;34m(\u001b[0m\u001b[0;34m)\u001b[0m\u001b[0;34m\u001b[0m\u001b[0;34m\u001b[0m\u001b[0m\n\u001b[0m\u001b[1;32m    520\u001b[0m       \u001b[0;32mreturn\u001b[0m \u001b[0mx\u001b[0m\u001b[0;34m.\u001b[0m\u001b[0mitem\u001b[0m\u001b[0;34m(\u001b[0m\u001b[0;34m)\u001b[0m \u001b[0;32mif\u001b[0m \u001b[0mnp\u001b[0m\u001b[0;34m.\u001b[0m\u001b[0mndim\u001b[0m\u001b[0;34m(\u001b[0m\u001b[0mx\u001b[0m\u001b[0;34m)\u001b[0m \u001b[0;34m==\u001b[0m \u001b[0;36m0\u001b[0m \u001b[0;32melse\u001b[0m \u001b[0mx\u001b[0m\u001b[0;34m\u001b[0m\u001b[0;34m\u001b[0m\u001b[0m\n\u001b[1;32m    521\u001b[0m     \u001b[0;32mreturn\u001b[0m \u001b[0mt\u001b[0m  \u001b[0;31m# Don't turn ragged or sparse tensors to NumPy.\u001b[0m\u001b[0;34m\u001b[0m\u001b[0;34m\u001b[0m\u001b[0m\n",
            "\u001b[0;32m/usr/local/lib/python3.6/dist-packages/tensorflow/python/framework/ops.py\u001b[0m in \u001b[0;36mnumpy\u001b[0;34m(self)\u001b[0m\n\u001b[1;32m    959\u001b[0m     \"\"\"\n\u001b[1;32m    960\u001b[0m     \u001b[0;31m# TODO(slebedev): Consider avoiding a copy for non-CPU or remote tensors.\u001b[0m\u001b[0;34m\u001b[0m\u001b[0;34m\u001b[0m\u001b[0;34m\u001b[0m\u001b[0m\n\u001b[0;32m--> 961\u001b[0;31m     \u001b[0mmaybe_arr\u001b[0m \u001b[0;34m=\u001b[0m \u001b[0mself\u001b[0m\u001b[0;34m.\u001b[0m\u001b[0m_numpy\u001b[0m\u001b[0;34m(\u001b[0m\u001b[0;34m)\u001b[0m  \u001b[0;31m# pylint: disable=protected-access\u001b[0m\u001b[0;34m\u001b[0m\u001b[0;34m\u001b[0m\u001b[0m\n\u001b[0m\u001b[1;32m    962\u001b[0m     \u001b[0;32mreturn\u001b[0m \u001b[0mmaybe_arr\u001b[0m\u001b[0;34m.\u001b[0m\u001b[0mcopy\u001b[0m\u001b[0;34m(\u001b[0m\u001b[0;34m)\u001b[0m \u001b[0;32mif\u001b[0m \u001b[0misinstance\u001b[0m\u001b[0;34m(\u001b[0m\u001b[0mmaybe_arr\u001b[0m\u001b[0;34m,\u001b[0m \u001b[0mnp\u001b[0m\u001b[0;34m.\u001b[0m\u001b[0mndarray\u001b[0m\u001b[0;34m)\u001b[0m \u001b[0;32melse\u001b[0m \u001b[0mmaybe_arr\u001b[0m\u001b[0;34m\u001b[0m\u001b[0;34m\u001b[0m\u001b[0m\n\u001b[1;32m    963\u001b[0m \u001b[0;34m\u001b[0m\u001b[0m\n",
            "\u001b[0;32m/usr/local/lib/python3.6/dist-packages/tensorflow/python/framework/ops.py\u001b[0m in \u001b[0;36m_numpy\u001b[0;34m(self)\u001b[0m\n\u001b[1;32m    925\u001b[0m     \u001b[0;31m# pylint: disable=protected-access\u001b[0m\u001b[0;34m\u001b[0m\u001b[0;34m\u001b[0m\u001b[0;34m\u001b[0m\u001b[0m\n\u001b[1;32m    926\u001b[0m     \u001b[0;32mtry\u001b[0m\u001b[0;34m:\u001b[0m\u001b[0;34m\u001b[0m\u001b[0;34m\u001b[0m\u001b[0m\n\u001b[0;32m--> 927\u001b[0;31m       \u001b[0;32mreturn\u001b[0m \u001b[0mself\u001b[0m\u001b[0;34m.\u001b[0m\u001b[0m_numpy_internal\u001b[0m\u001b[0;34m(\u001b[0m\u001b[0;34m)\u001b[0m\u001b[0;34m\u001b[0m\u001b[0;34m\u001b[0m\u001b[0m\n\u001b[0m\u001b[1;32m    928\u001b[0m     \u001b[0;32mexcept\u001b[0m \u001b[0mcore\u001b[0m\u001b[0;34m.\u001b[0m\u001b[0m_NotOkStatusException\u001b[0m \u001b[0;32mas\u001b[0m \u001b[0me\u001b[0m\u001b[0;34m:\u001b[0m\u001b[0;34m\u001b[0m\u001b[0;34m\u001b[0m\u001b[0m\n\u001b[1;32m    929\u001b[0m       \u001b[0msix\u001b[0m\u001b[0;34m.\u001b[0m\u001b[0mraise_from\u001b[0m\u001b[0;34m(\u001b[0m\u001b[0mcore\u001b[0m\u001b[0;34m.\u001b[0m\u001b[0m_status_to_exception\u001b[0m\u001b[0;34m(\u001b[0m\u001b[0me\u001b[0m\u001b[0;34m.\u001b[0m\u001b[0mcode\u001b[0m\u001b[0;34m,\u001b[0m \u001b[0me\u001b[0m\u001b[0;34m.\u001b[0m\u001b[0mmessage\u001b[0m\u001b[0;34m)\u001b[0m\u001b[0;34m,\u001b[0m \u001b[0;32mNone\u001b[0m\u001b[0;34m)\u001b[0m\u001b[0;34m\u001b[0m\u001b[0;34m\u001b[0m\u001b[0m\n",
            "\u001b[0;31mKeyboardInterrupt\u001b[0m: "
          ]
        }
      ]
    },
    {
      "cell_type": "code",
      "metadata": {
        "id": "Xe0RZSQ5Us1G",
        "colab_type": "code",
        "colab": {
          "base_uri": "https://localhost:8080/",
          "height": 282
        },
        "outputId": "e8db9b26-efe2-4939-f060-e2bfc7043acd"
      },
      "source": [
        "plt.subplot(211)\n",
        "plt.plot(history.history['loss'], 'b')\n",
        "plt.plot(history.history['val_loss'], 'r')\n",
        "\n",
        "plt.subplot(212)\n",
        "plt.plot(history.history['accuracy'], '--b')\n",
        "plt.plot(history.history['val_accuracy'], '--r')"
      ],
      "execution_count": null,
      "outputs": [
        {
          "output_type": "execute_result",
          "data": {
            "text/plain": [
              "[<matplotlib.lines.Line2D at 0x7faa14579470>]"
            ]
          },
          "metadata": {
            "tags": []
          },
          "execution_count": 31
        },
        {
          "output_type": "display_data",
          "data": {
            "image/png": "[encoded data removed]",
            "text/plain": [
              "<Figure size 432x288 with 2 Axes>"
            ]
          },
          "metadata": {
            "tags": [],
            "needs_background": "light"
          }
        }
      ]
    },
    {
      "cell_type": "code",
      "metadata": {
        "id": "px2YQbpMEK_w",
        "colab_type": "code",
        "colab": {}
      },
      "source": [
        ""
      ],
      "execution_count": null,
      "outputs": []
    }
  ]
}