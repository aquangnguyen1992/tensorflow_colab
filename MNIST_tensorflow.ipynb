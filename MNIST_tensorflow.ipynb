{
  "nbformat": 4,
  "nbformat_minor": 0,
  "metadata": {
    "colab": {
      "name": "MNIST_tensorflow.ipynb",
      "provenance": [],
      "collapsed_sections": [],
      "toc_visible": true,
      "authorship_tag": "ABX9TyMNPD2Vqt4F5Kmf+/9BlTZg",
      "include_colab_link": true
    },
    "kernelspec": {
      "name": "python3",
      "display_name": "Python 3"
    }
  },
  "cells": [
    {
      "cell_type": "markdown",
      "metadata": {
        "id": "view-in-github",
        "colab_type": "text"
      },
      "source": [
        "<a href=\"https://colab.research.google.com/github/aquangnguyen1992/tensorflow_colab/blob/max_detection_mnist/MNIST_tensorflow.ipynb\" target=\"_parent\"><img src=\"https://colab.research.google.com/assets/colab-badge.svg\" alt=\"Open In Colab\"/></a>"
      ]
    },
    {
      "cell_type": "markdown",
      "metadata": {
        "id": "zbsOAKgy0KEH",
        "colab_type": "text"
      },
      "source": [
        "# ***Check the Tensorflow version and load the dataset***"
      ]
    },
    {
      "cell_type": "code",
      "metadata": {
        "id": "QA1Gv85U0BEV",
        "colab_type": "code",
        "colab": {
          "base_uri": "https://localhost:8080/",
          "height": 35
        },
        "outputId": "019d53af-6a13-4a06-f9c1-46d53ba7e401"
      },
      "source": [
        "import tensorflow as tf\n",
        "import matplotlib.pyplot as plt\n",
        "import numpy as np\n",
        "tf.__version__"
      ],
      "execution_count": 1,
      "outputs": [
        {
          "output_type": "execute_result",
          "data": {
            "application/vnd.google.colaboratory.intrinsic": {
              "type": "string"
            },
            "text/plain": [
              "'2.2.0'"
            ]
          },
          "metadata": {
            "tags": []
          },
          "execution_count": 1
        }
      ]
    },
    {
      "cell_type": "code",
      "metadata": {
        "id": "tWo_sF1s0RBP",
        "colab_type": "code",
        "colab": {
          "base_uri": "https://localhost:8080/",
          "height": 68
        },
        "outputId": "62ae839c-4bbd-415c-e49c-d2a5a2ba0108"
      },
      "source": [
        "#import tensorflow_datasets as tfds\n",
        "from tensorflow.keras.layers import Dense, Flatten, Conv2D, Dropout, BatchNormalization\n",
        "from tensorflow.keras import Model\n",
        "\n",
        "mnist = tf.keras.datasets.mnist\n",
        "\n",
        "(x_train, y_train), (x_test, y_test) = mnist.load_data()\n",
        "x_train, x_test = x_train / 255.0, x_test / 255.0\n",
        "\n",
        "# Add a channels dimension\n",
        "NUMBER_OF_DATA = x_train.shape[0]\n",
        "x_train = x_train[..., tf.newaxis]\n",
        "\n",
        "train_val_split = 0.8\n",
        "\n",
        "x_val = x_train[int(NUMBER_OF_DATA*train_val_split):,:,:,:]\n",
        "x_train = x_train[:int(NUMBER_OF_DATA*train_val_split),:,:,:]\n",
        "\n",
        "y_val = y_train[int(NUMBER_OF_DATA*train_val_split):]\n",
        "y_train = y_train[:int(NUMBER_OF_DATA*train_val_split)]\n",
        "\n",
        "x_test = x_test[..., tf.newaxis]\n",
        "\n",
        "print(x_train.shape, x_val.shape, x_test.shape, y_train.shape, y_val.shape)"
      ],
      "execution_count": 2,
      "outputs": [
        {
          "output_type": "stream",
          "text": [
            "Downloading data from https://storage.googleapis.com/tensorflow/tf-keras-datasets/mnist.npz\n",
            "11493376/11490434 [==============================] - 0s 0us/step\n",
            "(48000, 28, 28, 1) (12000, 28, 28, 1) (10000, 28, 28, 1) (48000,) (12000,)\n"
          ],
          "name": "stdout"
        }
      ]
    },
    {
      "cell_type": "code",
      "metadata": {
        "id": "GYxXUT6XplRd",
        "colab_type": "code",
        "colab": {
          "base_uri": "https://localhost:8080/",
          "height": 299
        },
        "outputId": "40fd4b66-8d5e-4186-f575-3f4e0601e6e0"
      },
      "source": [
        "i = np.random.randint(0, x_train.shape[0])\n",
        "image_to_display = x_train[i]\n",
        "image_to_display = image_to_display.reshape([28, 28]).astype('float32')\n",
        "print(y_train[i])\n",
        "plt.imshow(image_to_display)"
      ],
      "execution_count": 3,
      "outputs": [
        {
          "output_type": "stream",
          "text": [
            "6\n"
          ],
          "name": "stdout"
        },
        {
          "output_type": "execute_result",
          "data": {
            "text/plain": [
              "<matplotlib.image.AxesImage at 0x7f3522bfc5f8>"
            ]
          },
          "metadata": {
            "tags": []
          },
          "execution_count": 3
        },
        {
          "output_type": "display_data",
          "data": {
            "image/png": "[encoded data removed]",
            "text/plain": [
              "<Figure size 432x288 with 1 Axes>"
            ]
          },
          "metadata": {
            "tags": [],
            "needs_background": "light"
          }
        }
      ]
    },
    {
      "cell_type": "markdown",
      "metadata": {
        "id": "AdokApGa9G2A",
        "colab_type": "text"
      },
      "source": [
        "# ***Design the NN***"
      ]
    },
    {
      "cell_type": "code",
      "metadata": {
        "id": "J8rVqeCl2Dko",
        "colab_type": "code",
        "colab": {
          "base_uri": "https://localhost:8080/",
          "height": 171
        },
        "outputId": "b632a38a-4b54-4121-d5b5-2877989f4852"
      },
      "source": [
        "'''W = tf.Variable(tf.zeros(shape=(28*28,10), name=\"W\"))\n",
        "b = tf.Variable(tf.ones(shape=(10)), name=\"bias\")\n",
        "\n",
        "@tf.function\n",
        "def forward(X):\n",
        "  return tf.nn.softmax(W*X+b)\n",
        "\n",
        "y_prediction = forward(image_to_display.reshape([28*28,1]))\n",
        "print(y_prediction)\n",
        "\n",
        "\n",
        "one_hot = tf.one_hot(label, depth=10)\n",
        "#cross_entropy = lambda: tf.reduce_mean(-tf.reduce_sum(one_hot*tf.math.log(y_prediction)))\n",
        "loss_fn = tf.keras.losses.CategoricalCrossentropy(from_logits=True)\n",
        "opt = tf.keras.optimizers.SGD(learning_rate=0.1, momentum=0.9)\n",
        "#train_step = opt.minimize(cross_entropy, [one_hot, y_prediction]).numpy()\n",
        "\n",
        "@tf.function\n",
        "def train_step(inputs, labels):\n",
        "  with tf.GradientTape() as tape:\n",
        "    predictions = forward(inputs)\n",
        "    regularization_loss=tf.math.add_n(model.losses)\n",
        "    pred_loss=loss_fn(labels, predictions)\n",
        "    total_loss=pred_loss + regularization_loss\n",
        "\n",
        "  gradients = tape.gradient(total_loss, model.trainable_variables)\n",
        "  optimizer.apply_gradients(zip(gradients, model.trainable_variables))'''\n"
      ],
      "execution_count": 4,
      "outputs": [
        {
          "output_type": "execute_result",
          "data": {
            "application/vnd.google.colaboratory.intrinsic": {
              "type": "string"
            },
            "text/plain": [
              "'W = tf.Variable(tf.zeros(shape=(28*28,10), name=\"W\"))\\nb = tf.Variable(tf.ones(shape=(10)), name=\"bias\")\\n\\n@tf.function\\ndef forward(X):\\n  return tf.nn.softmax(W*X+b)\\n\\ny_prediction = forward(image_to_display.reshape([28*28,1]))\\nprint(y_prediction)\\n\\n\\none_hot = tf.one_hot(label, depth=10)\\n#cross_entropy = lambda: tf.reduce_mean(-tf.reduce_sum(one_hot*tf.math.log(y_prediction)))\\nloss_fn = tf.keras.losses.CategoricalCrossentropy(from_logits=True)\\nopt = tf.keras.optimizers.SGD(learning_rate=0.1, momentum=0.9)\\n#train_step = opt.minimize(cross_entropy, [one_hot, y_prediction]).numpy()\\n\\n@tf.function\\ndef train_step(inputs, labels):\\n  with tf.GradientTape() as tape:\\n    predictions = forward(inputs)\\n    regularization_loss=tf.math.add_n(model.losses)\\n    pred_loss=loss_fn(labels, predictions)\\n    total_loss=pred_loss + regularization_loss\\n\\n  gradients = tape.gradient(total_loss, model.trainable_variables)\\n  optimizer.apply_gradients(zip(gradients, model.trainable_variables))'"
            ]
          },
          "metadata": {
            "tags": []
          },
          "execution_count": 4
        }
      ]
    },
    {
      "cell_type": "code",
      "metadata": {
        "id": "xw2wkGX-qFEQ",
        "colab_type": "code",
        "colab": {}
      },
      "source": [
        "BATCH_SIZE = 32\n",
        "train_ds = tf.data.Dataset.from_tensor_slices(\n",
        "    (x_train, y_train)).shuffle(10000).batch(BATCH_SIZE)\n",
        "\n",
        "val_ds = tf.data.Dataset.from_tensor_slices(\n",
        "    (x_val, y_val)).shuffle(10000).batch(BATCH_SIZE)\n",
        "\n",
        "test_ds = tf.data.Dataset.from_tensor_slices((x_test, y_test)).batch(BATCH_SIZE)"
      ],
      "execution_count": 7,
      "outputs": []
    },
    {
      "cell_type": "code",
      "metadata": {
        "id": "nCIW1tiIgpeh",
        "colab_type": "code",
        "colab": {}
      },
      "source": [
        "class MyModel(Model):\n",
        "  def __init__(self, conv1=32, dense1=64, dropout=0.3, regular_l1=0.01, regular_l2=0.01):\n",
        "    super(MyModel, self).__init__()\n",
        "    self.conv1 = Conv2D(conv1, 3, activation='relu', \n",
        "                        kernel_regularizer=tf.keras.regularizers.l1(regular_l1),\n",
        "                        activity_regularizer=tf.keras.regularizers.l2(regular_l2))\n",
        "    self.flatten = Flatten()\n",
        "    self.Dropout = Dropout(dropout)\n",
        "    self.BatchNormalization = BatchNormalization()\n",
        "    self.d1 = Dense(dense1, activation='relu', \n",
        "                        kernel_regularizer=tf.keras.regularizers.l1(regular_l1),\n",
        "                        activity_regularizer=tf.keras.regularizers.l2(regular_l2))\n",
        "    self.d2 = Dense(10)\n",
        "\n",
        "  def call(self, x):\n",
        "    x = self.conv1(x)\n",
        "    x = self.flatten(x)\n",
        "    x = self.Dropout(x)\n",
        "    x = self.BatchNormalization(x)\n",
        "    x = self.d1(x)\n",
        "    x = self.Dropout(x)\n",
        "    return self.d2(x)\n",
        "\n",
        "loss_object = tf.keras.losses.SparseCategoricalCrossentropy(from_logits=True)\n",
        "\n",
        "optimizer = tf.keras.optimizers.Adam()\n",
        "\n",
        "train_loss = tf.keras.metrics.Mean(name='train_loss')\n",
        "train_accuracy = tf.keras.metrics.SparseCategoricalAccuracy(name='train_accuracy')\n",
        "\n",
        "val_loss = tf.keras.metrics.Mean(name='val_loss')\n",
        "val_accuracy = tf.keras.metrics.SparseCategoricalAccuracy(name='val_accuracy')\n",
        "\n",
        "test_loss = tf.keras.metrics.Mean(name='test_loss')\n",
        "test_accuracy = tf.keras.metrics.SparseCategoricalAccuracy(name='test_accuracy')\n",
        "\n",
        "# Create an instance of the model\n",
        "model = MyModel(conv1=32, dense1=128)"
      ],
      "execution_count": 8,
      "outputs": []
    },
    {
      "cell_type": "code",
      "metadata": {
        "id": "MTq8-D6Z9pX2",
        "colab_type": "code",
        "colab": {}
      },
      "source": [
        "@tf.function\n",
        "def train_step(images, labels):\n",
        "  with tf.GradientTape() as tape:\n",
        "    # training=True is only needed if there are layers with different\n",
        "    # behavior during training versus inference (e.g. Dropout).\n",
        "    predictions = model(images, training=True)\n",
        "    loss = loss_object(labels, predictions)\n",
        "  gradients = tape.gradient(loss, model.trainable_variables)\n",
        "  optimizer.apply_gradients(zip(gradients, model.trainable_variables))\n",
        "\n",
        "  train_loss(loss)\n",
        "  train_accuracy(labels, predictions)\n",
        "\n",
        "@tf.function\n",
        "def val_step(images, labels):\n",
        "  # training=False is only needed if there are layers with different\n",
        "  # behavior during training versus inference (e.g. Dropout).\n",
        "  predictions = model(images, training=False)\n",
        "  t_loss = loss_object(labels, predictions)\n",
        "\n",
        "  val_loss(t_loss)\n",
        "  val_accuracy(labels, predictions)\n",
        "\n",
        "@tf.function\n",
        "def test_step(images, labels):\n",
        "  # training=False is only needed if there are layers with different\n",
        "  # behavior during training versus inference (e.g. Dropout).\n",
        "  predictions = model(images, training=False)\n",
        "  t_loss = loss_object(labels, predictions)\n",
        "\n",
        "  test_loss(t_loss)\n",
        "  test_accuracy(labels, predictions)"
      ],
      "execution_count": 9,
      "outputs": []
    },
    {
      "cell_type": "code",
      "metadata": {
        "id": "wnpb7Bl99rcf",
        "colab_type": "code",
        "colab": {
          "base_uri": "https://localhost:8080/",
          "height": 309
        },
        "outputId": "9cd87c06-754b-46a5-f714-a607dedbbbf4"
      },
      "source": [
        "EPOCHS = 10\n",
        "\n",
        "for epoch in range(EPOCHS):\n",
        "  # Reset the metrics at the start of the next epoch\n",
        "  train_loss.reset_states()\n",
        "  train_accuracy.reset_states()\n",
        "  val_loss.reset_states()\n",
        "  val_accuracy.reset_states()\n",
        "  #test_loss.reset_states()\n",
        "  #test_accuracy.reset_states()\n",
        "\n",
        "  for images, labels in train_ds:\n",
        "    train_step(images, labels)\n",
        "\n",
        "  for val_images, val_labels in val_ds:\n",
        "    val_step(val_images, val_labels)\n",
        "\n",
        "  #for test_images, test_labels in test_ds:\n",
        "  #  test_step(test_images, test_labels)\n",
        "\n",
        "  template = 'Epoch {}, Loss: {}, Accuracy: {}, Val Loss: {}, Val Accuracy: {}'\n",
        "  print(template.format(epoch + 1,\n",
        "                        train_loss.result(),\n",
        "                        train_accuracy.result() * 100,\n",
        "                        val_loss.result(),\n",
        "                        val_accuracy.result() * 100))"
      ],
      "execution_count": 10,
      "outputs": [
        {
          "output_type": "stream",
          "text": [
            "WARNING:tensorflow:Layer my_model_1 is casting an input tensor from dtype float64 to the layer's dtype of float32, which is new behavior in TensorFlow 2.  The layer has dtype float32 because it's dtype defaults to floatx.\n",
            "\n",
            "If you intended to run this layer in float32, you can safely ignore this warning. If in doubt, this warning is likely only an issue if you are porting a TensorFlow 1.X model to TensorFlow 2.\n",
            "\n",
            "To change all layers to have dtype float64 by default, call `tf.keras.backend.set_floatx('float64')`. To change just this layer, pass dtype='float64' to the layer constructor. If you are the author of this layer, you can disable autocasting by passing autocast=False to the base Layer constructor.\n",
            "\n",
            "Epoch 1, Loss: 0.21634891629219055, Accuracy: 93.69583129882812, Val Loss: 0.08069421350955963, Val Accuracy: 97.75\n",
            "Epoch 2, Loss: 0.10026095807552338, Accuracy: 96.93541717529297, Val Loss: 0.08193090558052063, Val Accuracy: 97.54166412353516\n",
            "Epoch 3, Loss: 0.07912591099739075, Accuracy: 97.59375, Val Loss: 0.09407536685466766, Val Accuracy: 97.92500305175781\n",
            "Epoch 4, Loss: 0.06818640232086182, Accuracy: 97.88542175292969, Val Loss: 0.09483703970909119, Val Accuracy: 98.14166259765625\n",
            "Epoch 5, Loss: 0.059814825654029846, Accuracy: 98.31041717529297, Val Loss: 0.11767872422933578, Val Accuracy: 97.9749984741211\n",
            "Epoch 6, Loss: 0.05095910280942917, Accuracy: 98.43124389648438, Val Loss: 0.09564398974180222, Val Accuracy: 98.24166870117188\n",
            "Epoch 7, Loss: 0.0466877780854702, Accuracy: 98.65416717529297, Val Loss: 0.13221757113933563, Val Accuracy: 97.80833435058594\n",
            "Epoch 8, Loss: 0.05221721902489662, Accuracy: 98.47291564941406, Val Loss: 0.1159542053937912, Val Accuracy: 98.44999694824219\n",
            "Epoch 9, Loss: 0.05037510022521019, Accuracy: 98.5687484741211, Val Loss: 0.12667647004127502, Val Accuracy: 98.125\n",
            "Epoch 10, Loss: 0.046854618936777115, Accuracy: 98.63749694824219, Val Loss: 0.13132742047309875, Val Accuracy: 98.31666564941406\n"
          ],
          "name": "stdout"
        }
      ]
    },
    {
      "cell_type": "code",
      "metadata": {
        "id": "WA2TCkyGqPsC",
        "colab_type": "code",
        "colab": {
          "base_uri": "https://localhost:8080/",
          "height": 34
        },
        "outputId": "abea520b-63c9-48f6-daf3-e0f2eb8bcf4c"
      },
      "source": [
        "for test_images, test_labels in test_ds:\n",
        "  test_step(test_images, test_labels)\n",
        "\n",
        "template = 'Test Loss: {}, Test Accuracy: {}'\n",
        "print(template.format(test_loss.result(),\n",
        "                      test_accuracy.result() * 100))"
      ],
      "execution_count": 11,
      "outputs": [
        {
          "output_type": "stream",
          "text": [
            "Test Loss: 0.1337549239397049, Test Accuracy: 98.19999694824219\n"
          ],
          "name": "stdout"
        }
      ]
    },
    {
      "cell_type": "markdown",
      "metadata": {
        "id": "rK9WKkl0vH_N",
        "colab_type": "text"
      },
      "source": [
        "# ***MNIST max using images***"
      ]
    },
    {
      "cell_type": "code",
      "metadata": {
        "id": "_ZJojnvFXafN",
        "colab_type": "code",
        "colab": {
          "base_uri": "https://localhost:8080/",
          "height": 333
        },
        "outputId": "ce6d404b-e351-48ed-b7fc-ce5886541110"
      },
      "source": [
        "# Create the dataset\n",
        "train_size = 2000\n",
        "test_size = 200\n",
        "\n",
        "def data_generation(data_size):\n",
        "  x = None\n",
        "  y = None\n",
        "  drop_this = False\n",
        "  for i in range(data_size):\n",
        "    i = np.random.randint(0, x_train.shape[0], size=(3,1))\n",
        "    selected_images = x_train[i]\n",
        "    selected_images = np.squeeze(selected_images, axis=(1,4))\n",
        "    selected_images = np.moveaxis(selected_images, 0, 2)\n",
        "    selected_images = np.expand_dims(selected_images, axis=0)\n",
        "\n",
        "    max_value = np.array([np.max(y_train[i])])\n",
        "    max_value = np.expand_dims(max_value, axis=0)\n",
        "    if max_value == 9:\n",
        "      if drop_this:\n",
        "        drop_this = False\n",
        "        continue      \n",
        "      else:\n",
        "        drop_this = True\n",
        "\n",
        "    if x is None:    \n",
        "      x = selected_images\n",
        "      y = max_value\n",
        "    else:\n",
        "      x = np.concatenate((x, selected_images), axis=0)    \n",
        "      y = np.concatenate((y, max_value), axis=0) \n",
        "  return x,y\n",
        "\n",
        "x_max_train, y_max_train = data_generation(train_size)\n",
        "x_max_test, y_max_test = data_generation(test_size)\n",
        "\n",
        "print(x_max_train.shape, y_max_train.shape)\n",
        "plt.hist(y_max_train, bins=range(10))"
      ],
      "execution_count": 122,
      "outputs": [
        {
          "output_type": "stream",
          "text": [
            "(1733, 28, 28, 3) (1733, 1)\n"
          ],
          "name": "stdout"
        },
        {
          "output_type": "execute_result",
          "data": {
            "text/plain": [
              "(array([  2.,  17.,  41.,  71., 121., 178., 274., 347., 682.]),\n",
              " array([0, 1, 2, 3, 4, 5, 6, 7, 8, 9]),\n",
              " <a list of 9 Patch objects>)"
            ]
          },
          "metadata": {
            "tags": []
          },
          "execution_count": 122
        },
        {
          "output_type": "display_data",
          "data": {
            "image/png": "[encoded data removed]",
            "text/plain": [
              "<Figure size 432x288 with 1 Axes>"
            ]
          },
          "metadata": {
            "tags": [],
            "needs_background": "light"
          }
        }
      ]
    },
    {
      "cell_type": "code",
      "metadata": {
        "id": "hEhYsGpm0bpM",
        "colab_type": "code",
        "colab": {
          "base_uri": "https://localhost:8080/",
          "height": 166
        },
        "outputId": "b0b208ae-fdc3-4847-b715-673f37ecabdb"
      },
      "source": [
        "i = np.random.randint(0, x_max_train.shape[0])\n",
        "\n",
        "test_label = y_max_train[i]\n",
        "\n",
        "for j in range(3):\n",
        "  test_im = x_max_train[i,:,:,j]\n",
        "  plt.subplot(1,3,j+1)\n",
        "  plt.imshow(test_im)\n",
        "\n",
        "print(test_label)\n"
      ],
      "execution_count": 123,
      "outputs": [
        {
          "output_type": "stream",
          "text": [
            "[9]\n"
          ],
          "name": "stdout"
        },
        {
          "output_type": "display_data",
          "data": {
            "image/png": "[encoded data removed]",
            "text/plain": [
              "<Figure size 432x288 with 3 Axes>"
            ]
          },
          "metadata": {
            "tags": [],
            "needs_background": "light"
          }
        }
      ]
    },
    {
      "cell_type": "code",
      "metadata": {
        "id": "y8BtH2kTvgpp",
        "colab_type": "code",
        "colab": {}
      },
      "source": [
        "# Create the model Keras-style\n",
        "from tensorflow.keras.layers import Dense, Flatten, Conv2D, Dropout, BatchNormalization\n",
        "from tensorflow.keras import Sequential\n",
        "from tensorflow.keras.regularizers import l1, l2\n",
        "from tensorflow.keras.optimizers import Adam, SGD\n",
        "\n",
        "def create_model(conv_layer1=32, conv_layer2=32, dense_node=128, dropout_rate=0.4, l1_rate=0.001, l2_rate=0.001):\n",
        "  out_model = Sequential()\n",
        "  out_model.add(Conv2D(conv_layer1, kernel_size=(3,3), strides=(2,2), \n",
        "                       input_shape=(x_max_train.shape[1], x_max_train.shape[2], x_max_train.shape[3]),\n",
        "                       activation=\"relu\", \n",
        "                       kernel_regularizer=tf.keras.regularizers.l1(l1_rate),\n",
        "                       activity_regularizer=tf.keras.regularizers.l2(l2_rate)))\n",
        "  out_model.add(Flatten())\n",
        "  out_model.add(BatchNormalization())\n",
        "  out_model.add(Dropout(dropout_rate))\n",
        "  out_model.add(Dense(dense_node, activation=\"relu\",\n",
        "                      kernel_regularizer=tf.keras.regularizers.l1(l1_rate),\n",
        "                      activity_regularizer=tf.keras.regularizers.l2(l2_rate)))\n",
        "  out_model.add(Dropout(dropout_rate))\n",
        "  out_model.add(Dense(np.max(y_max_train)+1, activation=\"softmax\"))\n",
        "\n",
        "  out_model.compile(\n",
        "            optimizer=Adam(learning_rate=0.0003),\n",
        "            loss='sparse_categorical_crossentropy',\n",
        "            metrics=['sparse_categorical_accuracy'])\n",
        "  \n",
        "  return out_model"
      ],
      "execution_count": 124,
      "outputs": []
    },
    {
      "cell_type": "code",
      "metadata": {
        "id": "jmO-bto74DGu",
        "colab_type": "code",
        "colab": {
          "base_uri": "https://localhost:8080/",
          "height": 391
        },
        "outputId": "162e1d0c-cfa9-4789-b75b-fa5f754ad67c"
      },
      "source": [
        "my_model = create_model(conv_layer1=8, dense_node=16, dropout_rate=0.5, l2_rate=0.005)\n",
        "my_model.summary()"
      ],
      "execution_count": 136,
      "outputs": [
        {
          "output_type": "stream",
          "text": [
            "Model: \"sequential_19\"\n",
            "_________________________________________________________________\n",
            "Layer (type)                 Output Shape              Param #   \n",
            "=================================================================\n",
            "conv2d_18 (Conv2D)           (None, 13, 13, 8)         224       \n",
            "_________________________________________________________________\n",
            "flatten_17 (Flatten)         (None, 1352)              0         \n",
            "_________________________________________________________________\n",
            "batch_normalization_17 (Batc (None, 1352)              5408      \n",
            "_________________________________________________________________\n",
            "dropout_32 (Dropout)         (None, 1352)              0         \n",
            "_________________________________________________________________\n",
            "dense_34 (Dense)             (None, 16)                21648     \n",
            "_________________________________________________________________\n",
            "dropout_33 (Dropout)         (None, 16)                0         \n",
            "_________________________________________________________________\n",
            "dense_35 (Dense)             (None, 10)                170       \n",
            "=================================================================\n",
            "Total params: 27,450\n",
            "Trainable params: 24,746\n",
            "Non-trainable params: 2,704\n",
            "_________________________________________________________________\n"
          ],
          "name": "stdout"
        }
      ]
    },
    {
      "cell_type": "code",
      "metadata": {
        "id": "AUjuqy9F4Ivv",
        "colab_type": "code",
        "colab": {
          "base_uri": "https://localhost:8080/",
          "height": 1000
        },
        "outputId": "ded140e3-10d9-4458-c098-701f553d6120"
      },
      "source": [
        "BATCH_SIZE = 16\n",
        "NB_EPOCH = 100\n",
        "\n",
        "history = my_model.fit(x_max_train, y_max_train, \n",
        "             batch_size=BATCH_SIZE, epochs=NB_EPOCH,\n",
        "             validation_split=0.2, shuffle=True)"
      ],
      "execution_count": 137,
      "outputs": [
        {
          "output_type": "stream",
          "text": [
            "Epoch 1/100\n",
            "87/87 [==============================] - 1s 6ms/step - loss: 3.8631 - sparse_categorical_accuracy: 0.1479 - val_loss: 3.0652 - val_sparse_categorical_accuracy: 0.1902\n",
            "Epoch 2/100\n",
            "87/87 [==============================] - 0s 5ms/step - loss: 3.4996 - sparse_categorical_accuracy: 0.1580 - val_loss: 2.9578 - val_sparse_categorical_accuracy: 0.2507\n",
            "Epoch 3/100\n",
            "87/87 [==============================] - 0s 5ms/step - loss: 3.1584 - sparse_categorical_accuracy: 0.1941 - val_loss: 2.8775 - val_sparse_categorical_accuracy: 0.2709\n",
            "Epoch 4/100\n",
            "87/87 [==============================] - 0s 5ms/step - loss: 2.9818 - sparse_categorical_accuracy: 0.2201 - val_loss: 2.8063 - val_sparse_categorical_accuracy: 0.2767\n",
            "Epoch 5/100\n",
            "87/87 [==============================] - 0s 5ms/step - loss: 2.8389 - sparse_categorical_accuracy: 0.2475 - val_loss: 2.7302 - val_sparse_categorical_accuracy: 0.2853\n",
            "Epoch 6/100\n",
            "87/87 [==============================] - 0s 5ms/step - loss: 2.7618 - sparse_categorical_accuracy: 0.2655 - val_loss: 2.6529 - val_sparse_categorical_accuracy: 0.3170\n",
            "Epoch 7/100\n",
            "87/87 [==============================] - 0s 5ms/step - loss: 2.6681 - sparse_categorical_accuracy: 0.2850 - val_loss: 2.5804 - val_sparse_categorical_accuracy: 0.3285\n",
            "Epoch 8/100\n",
            "87/87 [==============================] - 0s 5ms/step - loss: 2.6126 - sparse_categorical_accuracy: 0.3124 - val_loss: 2.5167 - val_sparse_categorical_accuracy: 0.3401\n",
            "Epoch 9/100\n",
            "87/87 [==============================] - 0s 5ms/step - loss: 2.5585 - sparse_categorical_accuracy: 0.2987 - val_loss: 2.4623 - val_sparse_categorical_accuracy: 0.3602\n",
            "Epoch 10/100\n",
            "87/87 [==============================] - 0s 5ms/step - loss: 2.5163 - sparse_categorical_accuracy: 0.3045 - val_loss: 2.3995 - val_sparse_categorical_accuracy: 0.3948\n",
            "Epoch 11/100\n",
            "87/87 [==============================] - 0s 5ms/step - loss: 2.4369 - sparse_categorical_accuracy: 0.3456 - val_loss: 2.3586 - val_sparse_categorical_accuracy: 0.3862\n",
            "Epoch 12/100\n",
            "87/87 [==============================] - 0s 5ms/step - loss: 2.4136 - sparse_categorical_accuracy: 0.3442 - val_loss: 2.3153 - val_sparse_categorical_accuracy: 0.4150\n",
            "Epoch 13/100\n",
            "87/87 [==============================] - 0s 5ms/step - loss: 2.3545 - sparse_categorical_accuracy: 0.3694 - val_loss: 2.2868 - val_sparse_categorical_accuracy: 0.4063\n",
            "Epoch 14/100\n",
            "87/87 [==============================] - 0s 5ms/step - loss: 2.3334 - sparse_categorical_accuracy: 0.3810 - val_loss: 2.2541 - val_sparse_categorical_accuracy: 0.4092\n",
            "Epoch 15/100\n",
            "87/87 [==============================] - 0s 5ms/step - loss: 2.3126 - sparse_categorical_accuracy: 0.3636 - val_loss: 2.2138 - val_sparse_categorical_accuracy: 0.4179\n",
            "Epoch 16/100\n",
            "87/87 [==============================] - 0s 5ms/step - loss: 2.2483 - sparse_categorical_accuracy: 0.3939 - val_loss: 2.1863 - val_sparse_categorical_accuracy: 0.4265\n",
            "Epoch 17/100\n",
            "87/87 [==============================] - 0s 5ms/step - loss: 2.2263 - sparse_categorical_accuracy: 0.3896 - val_loss: 2.1534 - val_sparse_categorical_accuracy: 0.4380\n",
            "Epoch 18/100\n",
            "87/87 [==============================] - 0s 5ms/step - loss: 2.2015 - sparse_categorical_accuracy: 0.4004 - val_loss: 2.1326 - val_sparse_categorical_accuracy: 0.4467\n",
            "Epoch 19/100\n",
            "87/87 [==============================] - 0s 5ms/step - loss: 2.1818 - sparse_categorical_accuracy: 0.4033 - val_loss: 2.1002 - val_sparse_categorical_accuracy: 0.4697\n",
            "Epoch 20/100\n",
            "87/87 [==============================] - 0s 5ms/step - loss: 2.1503 - sparse_categorical_accuracy: 0.4120 - val_loss: 2.0749 - val_sparse_categorical_accuracy: 0.4553\n",
            "Epoch 21/100\n",
            "87/87 [==============================] - 0s 5ms/step - loss: 2.1033 - sparse_categorical_accuracy: 0.4163 - val_loss: 2.0530 - val_sparse_categorical_accuracy: 0.4467\n",
            "Epoch 22/100\n",
            "87/87 [==============================] - 0s 5ms/step - loss: 2.0901 - sparse_categorical_accuracy: 0.4113 - val_loss: 2.0389 - val_sparse_categorical_accuracy: 0.4640\n",
            "Epoch 23/100\n",
            "87/87 [==============================] - 0s 5ms/step - loss: 2.0594 - sparse_categorical_accuracy: 0.4423 - val_loss: 2.0199 - val_sparse_categorical_accuracy: 0.4524\n",
            "Epoch 24/100\n",
            "87/87 [==============================] - 0s 5ms/step - loss: 2.0008 - sparse_categorical_accuracy: 0.4553 - val_loss: 1.9894 - val_sparse_categorical_accuracy: 0.4813\n",
            "Epoch 25/100\n",
            "87/87 [==============================] - 0s 5ms/step - loss: 2.0238 - sparse_categorical_accuracy: 0.4488 - val_loss: 1.9764 - val_sparse_categorical_accuracy: 0.4841\n",
            "Epoch 26/100\n",
            "87/87 [==============================] - 0s 5ms/step - loss: 2.0066 - sparse_categorical_accuracy: 0.4329 - val_loss: 1.9645 - val_sparse_categorical_accuracy: 0.4784\n",
            "Epoch 27/100\n",
            "87/87 [==============================] - 0s 5ms/step - loss: 1.9659 - sparse_categorical_accuracy: 0.4538 - val_loss: 1.9476 - val_sparse_categorical_accuracy: 0.4841\n",
            "Epoch 28/100\n",
            "87/87 [==============================] - 0s 5ms/step - loss: 1.9431 - sparse_categorical_accuracy: 0.4596 - val_loss: 1.9402 - val_sparse_categorical_accuracy: 0.4899\n",
            "Epoch 29/100\n",
            "87/87 [==============================] - 0s 5ms/step - loss: 1.9155 - sparse_categorical_accuracy: 0.4582 - val_loss: 1.9252 - val_sparse_categorical_accuracy: 0.4870\n",
            "Epoch 30/100\n",
            "87/87 [==============================] - 0s 5ms/step - loss: 1.9355 - sparse_categorical_accuracy: 0.4538 - val_loss: 1.9158 - val_sparse_categorical_accuracy: 0.4841\n",
            "Epoch 31/100\n",
            "87/87 [==============================] - 0s 5ms/step - loss: 1.9010 - sparse_categorical_accuracy: 0.4560 - val_loss: 1.9046 - val_sparse_categorical_accuracy: 0.4899\n",
            "Epoch 32/100\n",
            "87/87 [==============================] - 0s 5ms/step - loss: 1.8741 - sparse_categorical_accuracy: 0.4892 - val_loss: 1.8985 - val_sparse_categorical_accuracy: 0.4813\n",
            "Epoch 33/100\n",
            "87/87 [==============================] - 0s 5ms/step - loss: 1.8602 - sparse_categorical_accuracy: 0.4899 - val_loss: 1.8884 - val_sparse_categorical_accuracy: 0.4928\n",
            "Epoch 34/100\n",
            "87/87 [==============================] - 0s 5ms/step - loss: 1.8117 - sparse_categorical_accuracy: 0.4892 - val_loss: 1.8817 - val_sparse_categorical_accuracy: 0.4813\n",
            "Epoch 35/100\n",
            "87/87 [==============================] - 0s 5ms/step - loss: 1.8029 - sparse_categorical_accuracy: 0.4769 - val_loss: 1.8737 - val_sparse_categorical_accuracy: 0.4841\n",
            "Epoch 36/100\n",
            "87/87 [==============================] - 0s 5ms/step - loss: 1.8024 - sparse_categorical_accuracy: 0.4964 - val_loss: 1.8555 - val_sparse_categorical_accuracy: 0.4813\n",
            "Epoch 37/100\n",
            "87/87 [==============================] - 0s 5ms/step - loss: 1.8208 - sparse_categorical_accuracy: 0.4697 - val_loss: 1.8504 - val_sparse_categorical_accuracy: 0.4957\n",
            "Epoch 38/100\n",
            "87/87 [==============================] - 0s 5ms/step - loss: 1.7860 - sparse_categorical_accuracy: 0.4841 - val_loss: 1.8396 - val_sparse_categorical_accuracy: 0.4957\n",
            "Epoch 39/100\n",
            "87/87 [==============================] - 0s 5ms/step - loss: 1.8060 - sparse_categorical_accuracy: 0.4906 - val_loss: 1.8261 - val_sparse_categorical_accuracy: 0.4841\n",
            "Epoch 40/100\n",
            "87/87 [==============================] - 0s 5ms/step - loss: 1.7357 - sparse_categorical_accuracy: 0.5144 - val_loss: 1.8200 - val_sparse_categorical_accuracy: 0.4870\n",
            "Epoch 41/100\n",
            "87/87 [==============================] - 0s 5ms/step - loss: 1.7405 - sparse_categorical_accuracy: 0.5216 - val_loss: 1.8141 - val_sparse_categorical_accuracy: 0.4957\n",
            "Epoch 42/100\n",
            "87/87 [==============================] - 0s 5ms/step - loss: 1.7410 - sparse_categorical_accuracy: 0.5000 - val_loss: 1.8071 - val_sparse_categorical_accuracy: 0.5014\n",
            "Epoch 43/100\n",
            "87/87 [==============================] - 0s 5ms/step - loss: 1.7389 - sparse_categorical_accuracy: 0.5065 - val_loss: 1.8097 - val_sparse_categorical_accuracy: 0.5014\n",
            "Epoch 44/100\n",
            "87/87 [==============================] - 0s 5ms/step - loss: 1.7200 - sparse_categorical_accuracy: 0.5173 - val_loss: 1.7983 - val_sparse_categorical_accuracy: 0.4986\n",
            "Epoch 45/100\n",
            "87/87 [==============================] - 0s 5ms/step - loss: 1.6791 - sparse_categorical_accuracy: 0.5433 - val_loss: 1.7882 - val_sparse_categorical_accuracy: 0.5014\n",
            "Epoch 46/100\n",
            "87/87 [==============================] - 0s 5ms/step - loss: 1.7205 - sparse_categorical_accuracy: 0.5072 - val_loss: 1.7914 - val_sparse_categorical_accuracy: 0.5043\n",
            "Epoch 47/100\n",
            "87/87 [==============================] - 0s 5ms/step - loss: 1.7046 - sparse_categorical_accuracy: 0.5144 - val_loss: 1.7899 - val_sparse_categorical_accuracy: 0.5101\n",
            "Epoch 48/100\n",
            "87/87 [==============================] - 0s 5ms/step - loss: 1.7098 - sparse_categorical_accuracy: 0.5144 - val_loss: 1.7898 - val_sparse_categorical_accuracy: 0.4784\n",
            "Epoch 49/100\n",
            "87/87 [==============================] - 0s 5ms/step - loss: 1.6639 - sparse_categorical_accuracy: 0.5238 - val_loss: 1.7870 - val_sparse_categorical_accuracy: 0.4870\n",
            "Epoch 50/100\n",
            "87/87 [==============================] - 0s 5ms/step - loss: 1.6591 - sparse_categorical_accuracy: 0.5289 - val_loss: 1.7874 - val_sparse_categorical_accuracy: 0.4928\n",
            "Epoch 51/100\n",
            "87/87 [==============================] - 0s 5ms/step - loss: 1.7169 - sparse_categorical_accuracy: 0.5072 - val_loss: 1.7851 - val_sparse_categorical_accuracy: 0.5014\n",
            "Epoch 52/100\n",
            "87/87 [==============================] - 0s 5ms/step - loss: 1.6751 - sparse_categorical_accuracy: 0.5137 - val_loss: 1.7781 - val_sparse_categorical_accuracy: 0.4928\n",
            "Epoch 53/100\n",
            "87/87 [==============================] - 0s 4ms/step - loss: 1.6714 - sparse_categorical_accuracy: 0.5260 - val_loss: 1.7805 - val_sparse_categorical_accuracy: 0.5072\n",
            "Epoch 54/100\n",
            "87/87 [==============================] - 0s 5ms/step - loss: 1.6530 - sparse_categorical_accuracy: 0.5281 - val_loss: 1.7692 - val_sparse_categorical_accuracy: 0.4986\n",
            "Epoch 55/100\n",
            "87/87 [==============================] - 0s 6ms/step - loss: 1.6362 - sparse_categorical_accuracy: 0.5397 - val_loss: 1.7582 - val_sparse_categorical_accuracy: 0.4986\n",
            "Epoch 56/100\n",
            "87/87 [==============================] - 0s 5ms/step - loss: 1.6362 - sparse_categorical_accuracy: 0.5368 - val_loss: 1.7614 - val_sparse_categorical_accuracy: 0.5043\n",
            "Epoch 57/100\n",
            "87/87 [==============================] - 0s 5ms/step - loss: 1.6196 - sparse_categorical_accuracy: 0.5339 - val_loss: 1.7564 - val_sparse_categorical_accuracy: 0.5130\n",
            "Epoch 58/100\n",
            "87/87 [==============================] - 0s 5ms/step - loss: 1.6102 - sparse_categorical_accuracy: 0.5505 - val_loss: 1.7525 - val_sparse_categorical_accuracy: 0.5043\n",
            "Epoch 59/100\n",
            "87/87 [==============================] - 0s 5ms/step - loss: 1.6434 - sparse_categorical_accuracy: 0.5303 - val_loss: 1.7422 - val_sparse_categorical_accuracy: 0.5101\n",
            "Epoch 60/100\n",
            "87/87 [==============================] - 0s 5ms/step - loss: 1.6351 - sparse_categorical_accuracy: 0.5390 - val_loss: 1.7632 - val_sparse_categorical_accuracy: 0.4899\n",
            "Epoch 61/100\n",
            "87/87 [==============================] - 0s 5ms/step - loss: 1.5938 - sparse_categorical_accuracy: 0.5426 - val_loss: 1.7543 - val_sparse_categorical_accuracy: 0.4986\n",
            "Epoch 62/100\n",
            "87/87 [==============================] - 0s 5ms/step - loss: 1.6257 - sparse_categorical_accuracy: 0.5368 - val_loss: 1.7549 - val_sparse_categorical_accuracy: 0.5043\n",
            "Epoch 63/100\n",
            "87/87 [==============================] - 0s 5ms/step - loss: 1.5943 - sparse_categorical_accuracy: 0.5620 - val_loss: 1.7522 - val_sparse_categorical_accuracy: 0.5043\n",
            "Epoch 64/100\n",
            "87/87 [==============================] - 0s 5ms/step - loss: 1.6431 - sparse_categorical_accuracy: 0.5339 - val_loss: 1.7455 - val_sparse_categorical_accuracy: 0.5043\n",
            "Epoch 65/100\n",
            "87/87 [==============================] - 0s 5ms/step - loss: 1.5859 - sparse_categorical_accuracy: 0.5606 - val_loss: 1.7498 - val_sparse_categorical_accuracy: 0.4899\n",
            "Epoch 66/100\n",
            "87/87 [==============================] - 0s 5ms/step - loss: 1.5872 - sparse_categorical_accuracy: 0.5556 - val_loss: 1.7522 - val_sparse_categorical_accuracy: 0.4784\n",
            "Epoch 67/100\n",
            "87/87 [==============================] - 0s 5ms/step - loss: 1.6028 - sparse_categorical_accuracy: 0.5426 - val_loss: 1.7453 - val_sparse_categorical_accuracy: 0.4957\n",
            "Epoch 68/100\n",
            "87/87 [==============================] - 0s 5ms/step - loss: 1.5774 - sparse_categorical_accuracy: 0.5512 - val_loss: 1.7357 - val_sparse_categorical_accuracy: 0.4986\n",
            "Epoch 69/100\n",
            "87/87 [==============================] - 0s 5ms/step - loss: 1.5618 - sparse_categorical_accuracy: 0.5541 - val_loss: 1.7452 - val_sparse_categorical_accuracy: 0.5159\n",
            "Epoch 70/100\n",
            "87/87 [==============================] - 0s 5ms/step - loss: 1.5793 - sparse_categorical_accuracy: 0.5505 - val_loss: 1.7396 - val_sparse_categorical_accuracy: 0.5159\n",
            "Epoch 71/100\n",
            "87/87 [==============================] - 0s 5ms/step - loss: 1.5672 - sparse_categorical_accuracy: 0.5548 - val_loss: 1.7235 - val_sparse_categorical_accuracy: 0.5245\n",
            "Epoch 72/100\n",
            "87/87 [==============================] - 0s 5ms/step - loss: 1.5780 - sparse_categorical_accuracy: 0.5476 - val_loss: 1.7294 - val_sparse_categorical_accuracy: 0.5072\n",
            "Epoch 73/100\n",
            "87/87 [==============================] - 0s 5ms/step - loss: 1.5651 - sparse_categorical_accuracy: 0.5534 - val_loss: 1.7339 - val_sparse_categorical_accuracy: 0.5072\n",
            "Epoch 74/100\n",
            "87/87 [==============================] - 0s 5ms/step - loss: 1.6018 - sparse_categorical_accuracy: 0.5368 - val_loss: 1.7185 - val_sparse_categorical_accuracy: 0.5159\n",
            "Epoch 75/100\n",
            "87/87 [==============================] - 0s 5ms/step - loss: 1.5427 - sparse_categorical_accuracy: 0.5664 - val_loss: 1.7254 - val_sparse_categorical_accuracy: 0.5130\n",
            "Epoch 76/100\n",
            "87/87 [==============================] - 0s 5ms/step - loss: 1.5478 - sparse_categorical_accuracy: 0.5707 - val_loss: 1.7533 - val_sparse_categorical_accuracy: 0.5072\n",
            "Epoch 77/100\n",
            "87/87 [==============================] - 0s 5ms/step - loss: 1.5334 - sparse_categorical_accuracy: 0.5642 - val_loss: 1.7402 - val_sparse_categorical_accuracy: 0.5159\n",
            "Epoch 78/100\n",
            "87/87 [==============================] - 0s 5ms/step - loss: 1.5445 - sparse_categorical_accuracy: 0.5649 - val_loss: 1.7463 - val_sparse_categorical_accuracy: 0.5043\n",
            "Epoch 79/100\n",
            "87/87 [==============================] - 0s 5ms/step - loss: 1.5473 - sparse_categorical_accuracy: 0.5592 - val_loss: 1.7503 - val_sparse_categorical_accuracy: 0.5072\n",
            "Epoch 80/100\n",
            "87/87 [==============================] - 0s 5ms/step - loss: 1.5348 - sparse_categorical_accuracy: 0.5556 - val_loss: 1.7325 - val_sparse_categorical_accuracy: 0.5159\n",
            "Epoch 81/100\n",
            "87/87 [==============================] - 0s 5ms/step - loss: 1.5413 - sparse_categorical_accuracy: 0.5707 - val_loss: 1.7320 - val_sparse_categorical_accuracy: 0.5101\n",
            "Epoch 82/100\n",
            "87/87 [==============================] - 0s 5ms/step - loss: 1.5768 - sparse_categorical_accuracy: 0.5527 - val_loss: 1.7367 - val_sparse_categorical_accuracy: 0.5159\n",
            "Epoch 83/100\n",
            "87/87 [==============================] - 0s 5ms/step - loss: 1.5273 - sparse_categorical_accuracy: 0.5700 - val_loss: 1.7212 - val_sparse_categorical_accuracy: 0.5187\n",
            "Epoch 84/100\n",
            "87/87 [==============================] - 0s 5ms/step - loss: 1.5324 - sparse_categorical_accuracy: 0.5649 - val_loss: 1.7390 - val_sparse_categorical_accuracy: 0.5072\n",
            "Epoch 85/100\n",
            "87/87 [==============================] - 0s 5ms/step - loss: 1.5132 - sparse_categorical_accuracy: 0.5584 - val_loss: 1.7224 - val_sparse_categorical_accuracy: 0.5245\n",
            "Epoch 86/100\n",
            "87/87 [==============================] - 0s 5ms/step - loss: 1.5253 - sparse_categorical_accuracy: 0.5736 - val_loss: 1.7272 - val_sparse_categorical_accuracy: 0.5216\n",
            "Epoch 87/100\n",
            "87/87 [==============================] - 0s 5ms/step - loss: 1.5531 - sparse_categorical_accuracy: 0.5512 - val_loss: 1.7197 - val_sparse_categorical_accuracy: 0.5216\n",
            "Epoch 88/100\n",
            "87/87 [==============================] - 0s 5ms/step - loss: 1.5239 - sparse_categorical_accuracy: 0.5685 - val_loss: 1.7163 - val_sparse_categorical_accuracy: 0.5101\n",
            "Epoch 89/100\n",
            "87/87 [==============================] - 0s 5ms/step - loss: 1.5479 - sparse_categorical_accuracy: 0.5671 - val_loss: 1.7063 - val_sparse_categorical_accuracy: 0.5187\n",
            "Epoch 90/100\n",
            "87/87 [==============================] - 0s 5ms/step - loss: 1.5301 - sparse_categorical_accuracy: 0.5635 - val_loss: 1.7061 - val_sparse_categorical_accuracy: 0.5245\n",
            "Epoch 91/100\n",
            "87/87 [==============================] - 0s 5ms/step - loss: 1.5189 - sparse_categorical_accuracy: 0.5613 - val_loss: 1.7097 - val_sparse_categorical_accuracy: 0.5187\n",
            "Epoch 92/100\n",
            "87/87 [==============================] - 0s 5ms/step - loss: 1.5101 - sparse_categorical_accuracy: 0.5729 - val_loss: 1.7134 - val_sparse_categorical_accuracy: 0.5159\n",
            "Epoch 93/100\n",
            "87/87 [==============================] - 0s 5ms/step - loss: 1.5396 - sparse_categorical_accuracy: 0.5700 - val_loss: 1.7042 - val_sparse_categorical_accuracy: 0.5331\n",
            "Epoch 94/100\n",
            "87/87 [==============================] - 0s 5ms/step - loss: 1.4868 - sparse_categorical_accuracy: 0.5750 - val_loss: 1.6999 - val_sparse_categorical_accuracy: 0.5245\n",
            "Epoch 95/100\n",
            "87/87 [==============================] - 0s 5ms/step - loss: 1.5252 - sparse_categorical_accuracy: 0.5649 - val_loss: 1.6838 - val_sparse_categorical_accuracy: 0.5331\n",
            "Epoch 96/100\n",
            "87/87 [==============================] - 0s 5ms/step - loss: 1.4970 - sparse_categorical_accuracy: 0.5743 - val_loss: 1.6996 - val_sparse_categorical_accuracy: 0.5187\n",
            "Epoch 97/100\n",
            "87/87 [==============================] - 0s 5ms/step - loss: 1.5060 - sparse_categorical_accuracy: 0.5707 - val_loss: 1.6967 - val_sparse_categorical_accuracy: 0.5274\n",
            "Epoch 98/100\n",
            "87/87 [==============================] - 0s 5ms/step - loss: 1.4831 - sparse_categorical_accuracy: 0.5786 - val_loss: 1.7007 - val_sparse_categorical_accuracy: 0.5159\n",
            "Epoch 99/100\n",
            "87/87 [==============================] - 0s 5ms/step - loss: 1.5488 - sparse_categorical_accuracy: 0.5512 - val_loss: 1.7048 - val_sparse_categorical_accuracy: 0.5014\n",
            "Epoch 100/100\n",
            "87/87 [==============================] - 0s 5ms/step - loss: 1.5061 - sparse_categorical_accuracy: 0.5714 - val_loss: 1.6925 - val_sparse_categorical_accuracy: 0.5187\n"
          ],
          "name": "stdout"
        }
      ]
    },
    {
      "cell_type": "code",
      "metadata": {
        "id": "9Xh94uIR47Cl",
        "colab_type": "code",
        "colab": {
          "base_uri": "https://localhost:8080/",
          "height": 282
        },
        "outputId": "b2ed0536-8a81-46df-f5e5-f08cb1ccda43"
      },
      "source": [
        "plt.subplot(211)\n",
        "plt.plot(history.history[\"loss\"], '-b')\n",
        "plt.plot(history.history[\"val_loss\"], '-r')\n",
        "\n",
        "plt.subplot(212)\n",
        "plt.plot(history.history[\"sparse_categorical_accuracy\"], '-b')\n",
        "plt.plot(history.history[\"val_sparse_categorical_accuracy\"], '-r')"
      ],
      "execution_count": 138,
      "outputs": [
        {
          "output_type": "execute_result",
          "data": {
            "text/plain": [
              "[<matplotlib.lines.Line2D at 0x7f350fafb518>]"
            ]
          },
          "metadata": {
            "tags": []
          },
          "execution_count": 138
        },
        {
          "output_type": "display_data",
          "data": {
            "image/png": "[encoded data removed]",
            "text/plain": [
              "<Figure size 432x288 with 2 Axes>"
            ]
          },
          "metadata": {
            "tags": [],
            "needs_background": "light"
          }
        }
      ]
    },
    {
      "cell_type": "code",
      "metadata": {
        "id": "UWn1xxFM_jMM",
        "colab_type": "code",
        "colab": {
          "base_uri": "https://localhost:8080/",
          "height": 51
        },
        "outputId": "1262f280-29ca-4be9-8da8-208cba216204"
      },
      "source": [
        "my_model.evaluate(x_max_test, y_max_test)"
      ],
      "execution_count": 139,
      "outputs": [
        {
          "output_type": "stream",
          "text": [
            "6/6 [==============================] - 0s 3ms/step - loss: 1.6473 - sparse_categorical_accuracy: 0.5143\n"
          ],
          "name": "stdout"
        },
        {
          "output_type": "execute_result",
          "data": {
            "text/plain": [
              "[1.6473256349563599, 0.5142857432365417]"
            ]
          },
          "metadata": {
            "tags": []
          },
          "execution_count": 139
        }
      ]
    },
    {
      "cell_type": "code",
      "metadata": {
        "id": "wTnX-bVF6lJ5",
        "colab_type": "code",
        "colab": {
          "base_uri": "https://localhost:8080/",
          "height": 34
        },
        "outputId": "2e1d770c-1886-4601-e17b-44841d2f5224"
      },
      "source": [
        "i = np.random.randint(0, x_max_test.shape[0])\n",
        "predicted = np.argmax(my_model.predict(np.expand_dims(x_max_test[i], axis=0)))\n",
        "print(predicted, y_max_test[i])"
      ],
      "execution_count": 152,
      "outputs": [
        {
          "output_type": "stream",
          "text": [
            "8 [8]\n"
          ],
          "name": "stdout"
        }
      ]
    },
    {
      "cell_type": "code",
      "metadata": {
        "id": "vkins6UO6chG",
        "colab_type": "code",
        "colab": {}
      },
      "source": [
        ""
      ],
      "execution_count": null,
      "outputs": []
    }
  ]
}